{
  "cells": [
    {
      "cell_type": "markdown",
      "metadata": {},
      "source": [
        "![Instituto Politécnico de Leiria](https://www.ipleiria.pt/wp-content/webpc-passthru.php?src=https://www.ipleiria.pt/wp-content/uploads/2021/10/estg_h-01.png&nocache=1)\n",
        "\n",
        "<center>\n",
        "\n",
        "# AI Driving Classification  <span style=\"font-size: 14px;\">2023/2024</span>\n",
        "\n",
        "\n",
        "<div align=\"center\" style=\"font-weight: bold\">Team Members:</div>\n",
        "\n",
        "<div align=\"center\">Alberto Manuel de Matos Pingo - 2202145</div>\n",
        "\n",
        "<div align=\"center\">João Pedro Quintela de Castro - 2201781</div>\n",
        "\n",
        "---\n",
        "\n",
        "## **Second Approach - Bidirectional LSTM**\n",
        "\n",
        "</center>\n",
        "\n",
        "---"
      ]
    },
    {
      "cell_type": "markdown",
      "metadata": {},
      "source": [
        "## Directories"
      ]
    },
    {
      "cell_type": "code",
      "execution_count": 1,
      "metadata": {},
      "outputs": [
        {
          "name": "stdout",
          "output_type": "stream",
          "text": [
            "Root directory: /home/pws/code/CoEProject-AI-DrivingClassification\n",
            "Datasets directory: /home/pws/code/CoEProject-AI-DrivingClassification/datasets\n",
            "Dataset directory: /home/pws/code/CoEProject-AI-DrivingClassification/datasets/IPL-Dataset\n"
          ]
        }
      ],
      "source": [
        "import os\n",
        "\n",
        "# Make auxiliar folders\n",
        "if not os.path.exists('runtime_saves'):\n",
        "    os.makedirs('runtime_saves')\n",
        "if not os.path.exists('runtime_saves/models'):\n",
        "    os.makedirs('runtime_saves/models')\n",
        "if not os.path.exists('runtime_saves/train&test'):\n",
        "    os.makedirs('runtime_saves/train&test')\n",
        "    \n",
        "current_dir = os.getcwd()\n",
        "\n",
        "root_dir = os.path.abspath(os.path.join(current_dir, os.pardir, os.pardir))\n",
        "\n",
        "datasets_dir = os.path.join(root_dir, 'datasets')\n",
        "\n",
        "dataset_dir = os.path.join(datasets_dir, 'IPL-Dataset')\n",
        "\n",
        "\n",
        "print(f'Root directory: {root_dir}')\n",
        "print(f'Datasets directory: {datasets_dir}')\n",
        "print(f'Dataset directory: {dataset_dir}')"
      ]
    },
    {
      "cell_type": "markdown",
      "metadata": {},
      "source": [
        "# **DATA PREPROCESSING**\n",
        "\n",
        "## Data Structure\n",
        "\n",
        "Accelerometer (m/s²): Acceleration along the each axis.\n",
        "- **accelerometerXAxis**\n",
        "- **accelerometerZAxis**\n",
        "- **accelerometerYAxis**\n",
        "\n",
        "Gyroscope (°/s): Angular velocity along the each axis.\n",
        "- **gyroscopeXAxis**\n",
        "- **gyroscopeYAxis**\n",
        "- **gyroscopeZAxis**\n",
        "\n",
        "GPS Coordinates (°): \n",
        "- **Latitude**\n",
        "- **Longitude**"
      ]
    },
    {
      "cell_type": "markdown",
      "metadata": {},
      "source": [
        "## Load Scenarios and Data Cleaning"
      ]
    },
    {
      "cell_type": "code",
      "execution_count": 2,
      "metadata": {},
      "outputs": [],
      "source": [
        "import json\n",
        "import pandas as pd\n",
        "import numpy as np\n",
        "\n",
        "directories = ['Acceleration', 'Brake', 'Intersection']\n",
        "column_names = ['accelerometerXAxis', 'accelerometerYAxis', 'accelerometerZAxis', 'gyroscopeXAxis', 'gyroscopeYAxis', 'gyroscopeZAxis', 'Latitude', 'Longitude']\n",
        "label_names = ['Slow', 'Normal', 'Aggressive']\n",
        "\n",
        "df_bmw = pd.DataFrame(columns=column_names)\n",
        "labels_bmw = []\n",
        "df_honda = pd.DataFrame(columns=column_names)\n",
        "labels_honda = []\n",
        "\n",
        "data_bmw_list = []\n",
        "data_honda_list = []\n",
        "\n",
        "for directory in directories:\n",
        "    for root, dirs, files in os.walk(os.path.join(dataset_dir, directory)):\n",
        "        if 'turn 90 degree constant speed' in root: # Skip this directory\n",
        "            continue\n",
        "        for file in files:\n",
        "            if file.endswith('.json'):\n",
        "                f_car = os.path.basename(root).split()[0].upper()            \n",
        "                f_label = os.path.basename(os.path.dirname(root))\n",
        "                \n",
        "                f_data = json.load(open(os.path.join(root, file)))\n",
        "                f_data = f_data['capturedData']\n",
        "                f_data = pd.DataFrame(f_data)\n",
        "                \n",
        "                f_data = f_data[column_names]\n",
        "                \n",
        "                # Add Label to each row\n",
        "                f_labels = np.full((f_data.shape[0]), f_label)\n",
        "                                \n",
        "                if f_car == 'BMW':                                      \n",
        "                    data_bmw_list.append(f_data.copy())\n",
        "                    labels_bmw.extend(f_labels)                    \n",
        "                elif f_car == 'HONDA':\n",
        "                    data_honda_list.append(f_data.copy())\n",
        "                    labels_honda.extend(f_labels)                    \n",
        "\n",
        "label_names = np.unique(labels_bmw)\n",
        "\n",
        "# Raw Data\n",
        "df_bmw = pd.concat(data_bmw_list, axis=0)\n",
        "df_honda = pd.concat(data_honda_list, axis=0)\n",
        "# Save Data to CSV - runtime_saves folder\n",
        "df_bmw.to_csv('runtime_saves/00BMW_raw.csv', index=False)\n",
        "df_honda.to_csv('runtime_saves/00HONDA_raw.csv', index=False)\n",
        "\n",
        "# Labels\n",
        "labels_bmw = np.array(labels_bmw)\n",
        "labels_honda = np.array(labels_honda)\n",
        "labels = np.concatenate((labels_bmw, labels_honda))\n",
        "# Save Labels to CSV - runtime_saves folder\n",
        "np.savetxt('runtime_saves/BMW_labels.csv', labels_bmw, delimiter=',', fmt='%s')\n",
        "np.savetxt('runtime_saves/HONDA_labels.csv', labels_honda, delimiter=',', fmt='%s')"
      ]
    },
    {
      "cell_type": "markdown",
      "metadata": {},
      "source": [
        "## Rolling Window\n",
        "\n",
        "This processes **reduces the sensor data noise** by applying a centered rolling mean with a window of 3 to each column of the DataFrame. \\\n",
        "For each value, the function computes the mean of the current value, the one before, and the one after.\n",
        "\n",
        "    Applied to each scenario individually."
      ]
    },
    {
      "cell_type": "code",
      "execution_count": 3,
      "metadata": {},
      "outputs": [],
      "source": [
        "def apply_rolling_window(df):\n",
        "    df = df.rolling(window=3, center=True, min_periods=1).mean()   \n",
        "     \n",
        "    return df\n",
        "\n",
        "columns_to_process = ['accelerometerXAxis', 'accelerometerYAxis', 'accelerometerZAxis', 'gyroscopeXAxis', 'gyroscopeYAxis', 'gyroscopeZAxis']\n",
        "\n",
        "for i in range(len(data_bmw_list)):\n",
        "    data_bmw_list[i][columns_to_process] = apply_rolling_window(data_bmw_list[i][columns_to_process].copy())\n",
        "for i in range(len(data_honda_list)):\n",
        "    data_honda_list[i][columns_to_process] = apply_rolling_window(data_honda_list[i][columns_to_process].copy())\n",
        "\n",
        "data_bmw = pd.concat(data_bmw_list, axis=0)\n",
        "data_honda = pd.concat(data_honda_list, axis=0)\n",
        "\n",
        "# Save Data to CSV - runtime_saves folder\n",
        "data_bmw.to_csv('runtime_saves/01BMW_rollingwindow.csv', index=False)\n",
        "data_honda.to_csv('runtime_saves/01HONDA_rollingwindow.csv', index=False)"
      ]
    },
    {
      "cell_type": "code",
      "execution_count": 4,
      "metadata": {
        "id": "B5wPPy3OiYj9"
      },
      "outputs": [],
      "source": [
        "# import numpy as np\n",
        "# import pandas as pd\n",
        "\n",
        "# # Load the dataset into a DataFrame\n",
        "# df_bmw = pd.read_csv('runtime_saves/01BMW_rollingwindow.csv')\n",
        "# df_honda = pd.read_csv('runtime_saves/01HONDA_rollingwindow.csv')\n",
        "\n",
        "# # Load the labels into a NumPy array\n",
        "# labels_bmw = np.loadtxt('runtime_saves/bmw_labels.csv', delimiter=',', dtype=str)\n",
        "# labels_honda = np.loadtxt('runtime_saves/honda_labels.csv', delimiter=',', dtype=str)"
      ]
    },
    {
      "cell_type": "markdown",
      "metadata": {},
      "source": [
        "## Statistics - Label Distribution"
      ]
    },
    {
      "cell_type": "code",
      "execution_count": 5,
      "metadata": {},
      "outputs": [
        {
          "data": {
            "image/png": "[encoded data removed]",
            "text/plain": [
              "<Figure size 1200x600 with 1 Axes>"
            ]
          },
          "metadata": {},
          "output_type": "display_data"
        }
      ],
      "source": [
        "import matplotlib.pyplot as plt\n",
        "import seaborn as sns\n",
        "\n",
        "labels = pd.Series(labels)\n",
        "\n",
        "# plot the count of each label\n",
        "plt.figure(figsize=(12, 6))\n",
        "sns.countplot(x=labels, color='lightgreen')\n",
        "plt.title('Distribution of Labels')\n",
        "plt.xlabel('Label')\n",
        "plt.ylabel('Count')\n",
        "plt.show()"
      ]
    },
    {
      "cell_type": "markdown",
      "metadata": {},
      "source": [
        "# Label Encoding\n",
        "\n",
        "This process encodes each unique Categorical label as a distinct integer."
      ]
    },
    {
      "cell_type": "code",
      "execution_count": 6,
      "metadata": {},
      "outputs": [],
      "source": [
        "from sklearn.preprocessing import LabelEncoder\n",
        "\n",
        "label_encoder = LabelEncoder()\n",
        "\n",
        "labels = label_encoder.fit_transform(labels)"
      ]
    },
    {
      "cell_type": "markdown",
      "metadata": {},
      "source": [
        "## Normalize Data\n",
        "\n",
        "This process **helps the model performance** by rescaling specified columns of the dataset to a range between 0 and 1, based on the minimum and maximum values of that column.\n",
        "    \n",
        "    Applied to each car individually."
      ]
    },
    {
      "cell_type": "code",
      "execution_count": 7,
      "metadata": {},
      "outputs": [],
      "source": [
        "def normalize_between_0_and_1(data, columns):\n",
        "    for column in columns:\n",
        "        if column not in data.columns:\n",
        "            print(f\"[WARNING] {column} not found in DataFrame.\")\n",
        "            continue\n",
        "        else:\n",
        "            max_value = np.max(data[column])\n",
        "            min_value = np.min(data[column])\n",
        "            data[column] = (data[column] - min_value) / (max_value - min_value)\n",
        "    return data\n",
        "\n",
        "columns_to_normalize = ['accelerometerXAxis', 'accelerometerYAxis', 'accelerometerZAxis', 'gyroscopeXAxis', 'gyroscopeYAxis', 'gyroscopeZAxis']\n",
        "\n",
        "\n",
        "df_bmw = normalize_between_0_and_1(df_bmw, columns_to_normalize)\n",
        "df_honda = normalize_between_0_and_1(df_honda, columns_to_normalize)"
      ]
    },
    {
      "cell_type": "markdown",
      "metadata": {},
      "source": [
        "## Concatenate Data\n",
        "\n",
        "This process concatenates all cars into a single DataFrame after applyting the rolling window and normalization."
      ]
    },
    {
      "cell_type": "code",
      "execution_count": 8,
      "metadata": {},
      "outputs": [],
      "source": [
        "df = pd.concat([df_bmw, df_honda], axis=0)\n",
        "\n",
        "# create label column in the dataframe\n",
        "df['label'] = labels"
      ]
    },
    {
      "cell_type": "markdown",
      "metadata": {},
      "source": [
        "## Create Sequences\n",
        "\n",
        "This process involves segmenting time-series data into overlapping sequences and associating each sequence with a label based on the most frequent label within that window."
      ]
    },
    {
      "cell_type": "code",
      "execution_count": 9,
      "metadata": {},
      "outputs": [],
      "source": [
        "import numpy as np\n",
        "from scipy.stats import mode\n",
        "\n",
        "def create_sequences(data, labels, window_size=16, step_size=2):\n",
        "    X, y = [], []\n",
        "    for i in range(0, len(data) - window_size + 1, step_size):\n",
        "        # Create the window of data\n",
        "        X.append(data[i:i + window_size].values)        \n",
        "        \n",
        "         # Find the most frequent string label in the current window\n",
        "        window_labels = labels[i:i + window_size]\n",
        "        most_frequent_label = mode(window_labels, axis=None)[0]\n",
        "        \n",
        "        # Add the most frequent label as the label of the current window\n",
        "        y.append(most_frequent_label)\n",
        "            \n",
        "    return np.array(X), np.array(y)\n",
        "\n",
        "time_steps = 16\n",
        "step_size = 1\n",
        "\n",
        "X, y = create_sequences(\n",
        "    df[['accelerometerXAxis', 'accelerometerYAxis', 'accelerometerZAxis',\n",
        "        'gyroscopeXAxis', 'gyroscopeYAxis', 'gyroscopeZAxis', \n",
        "        'Latitude', 'Longitude']],\n",
        "    df['label'],\n",
        "    window_size=time_steps,\n",
        "    step_size=step_size    \n",
        ")\n",
        "\n",
        "# Save Features and Labels\n",
        "np.save('runtime_saves/X.npy', X)\n",
        "np.savetxt('runtime_saves/y.csv', y, delimiter=',', fmt='%d')"
      ]
    },
    {
      "cell_type": "markdown",
      "metadata": {},
      "source": [
        "# Split Dataset for Model Training\n",
        "\n",
        "This section splits the dataset into training, test, and validation sets\n",
        "\n",
        "- 70% Training\n",
        "- 20% Test\n",
        "- 10% Validation\n",
        "\n",
        "Stratify ensures each set maintains the original class distribution, while shuffle randomizes data to avoid any biases."
      ]
    },
    {
      "cell_type": "code",
      "execution_count": 10,
      "metadata": {},
      "outputs": [
        {
          "name": "stdout",
          "output_type": "stream",
          "text": [
            "Train Info: (2927, 16, 8), (2927,)\n",
            "Test Info: (814, 16, 8), (814,)\n",
            "Validation Info: (326, 16, 8), (326,)\n"
          ]
        }
      ],
      "source": [
        "from sklearn.model_selection import train_test_split\n",
        "\n",
        "X_train, X_test, y_train, y_test = train_test_split(X, y, test_size=0.2, shuffle=True, stratify=y, random_state=23)\n",
        "\n",
        "X_train, X_validation, y_train, y_validation = train_test_split(X_train, y_train, test_size=0.1, shuffle=True, stratify=y_train, random_state=23)\n",
        "\n",
        "\n",
        "print(f'Train Info: {X_train.shape}, {y_train.shape}')\n",
        "print(f'Test Info: {X_test.shape}, {y_test.shape}')\n",
        "print(f'Validation Info: {X_validation.shape}, {y_validation.shape}')"
      ]
    },
    {
      "cell_type": "markdown",
      "metadata": {},
      "source": [
        "# **MODEL ARCHITECTURE** - Bidirectional LSTM\n",
        "\n",
        "**Architecture:**\n",
        "\n",
        "Input -> Bidirectional LSTM - BN -> Dropout -> Bidirectional LSTM - BN -> Dropout -> Bidirectional LSTM - BN -> Dropout -> Dense - Output\n",
        "\n",
        "1. **Input Layer**\n",
        "   - The input layer expects sequences with shape `(timesteps, features)`, where `timesteps` is the number of time steps and `features` is the number of features at each time step.\n",
        "   - No specific preprocessing is applied to the input sequences beyond normalization.\n",
        "\n",
        "2. **Bidirectional LSTM Layers**\n",
        "   - The model contains three Bidirectional LSTM layers, each with 64 units.\n",
        "   - The Bidirectional wrapper allows each LSTM to process sequences in both forward and backward directions, capturing dependencies from both sides of the sequence.\n",
        "   - `return_sequences=True` is used for the first two LSTM layers to ensure that the output at each time step is returned, which is necessary for stacking multiple LSTM layers.\n",
        "\n",
        "3. **Fully Connected (Dense) Layer**\n",
        "   - A dense layer with 3 units and a softmax activation function is used as the output layer.\n",
        "   - The softmax function outputs the probability distribution over the 3 classes.\n",
        "\n",
        "**Overfitting Measures**\n",
        "   - Dropout layers are utilized after each LSTM and dense layer to reduce the risk of overfitting by preventing the model from relying too heavily on any single feature or connection.\n",
        "\n",
        "**Batch Normalization**\n",
        "   - Batch normalization is used after each LSTM layer to normalize the activations, which helps in stabilizing and speeding up the training process by maintaining a consistent distribution of activations."
      ]
    },
    {
      "cell_type": "code",
      "execution_count": 11,
      "metadata": {},
      "outputs": [
        {
          "name": "stderr",
          "output_type": "stream",
          "text": [
            "2024-09-06 04:40:47.739258: E external/local_xla/xla/stream_executor/cuda/cuda_dnn.cc:9261] Unable to register cuDNN factory: Attempting to register factory for plugin cuDNN when one has already been registered\n",
            "2024-09-06 04:40:47.739327: E external/local_xla/xla/stream_executor/cuda/cuda_fft.cc:607] Unable to register cuFFT factory: Attempting to register factory for plugin cuFFT when one has already been registered\n",
            "2024-09-06 04:40:47.842423: E external/local_xla/xla/stream_executor/cuda/cuda_blas.cc:1515] Unable to register cuBLAS factory: Attempting to register factory for plugin cuBLAS when one has already been registered\n",
            "2024-09-06 04:40:48.054869: I tensorflow/core/platform/cpu_feature_guard.cc:182] This TensorFlow binary is optimized to use available CPU instructions in performance-critical operations.\n",
            "To enable the following instructions: AVX2 FMA, in other operations, rebuild TensorFlow with the appropriate compiler flags.\n",
            "2024-09-06 04:40:49.548582: W tensorflow/compiler/tf2tensorrt/utils/py_utils.cc:38] TF-TRT Warning: Could not find TensorRT\n",
            "2024-09-06 04:40:51.081678: I external/local_xla/xla/stream_executor/cuda/cuda_executor.cc:901] successful NUMA node read from SysFS had negative value (-1), but there must be at least one NUMA node, so returning NUMA node zero. See more at https://github.com/torvalds/linux/blob/v6.0/Documentation/ABI/testing/sysfs-bus-pci#L344-L355\n",
            "2024-09-06 04:40:51.480271: I external/local_xla/xla/stream_executor/cuda/cuda_executor.cc:901] successful NUMA node read from SysFS had negative value (-1), but there must be at least one NUMA node, so returning NUMA node zero. See more at https://github.com/torvalds/linux/blob/v6.0/Documentation/ABI/testing/sysfs-bus-pci#L344-L355\n",
            "2024-09-06 04:40:51.480556: I external/local_xla/xla/stream_executor/cuda/cuda_executor.cc:901] successful NUMA node read from SysFS had negative value (-1), but there must be at least one NUMA node, so returning NUMA node zero. See more at https://github.com/torvalds/linux/blob/v6.0/Documentation/ABI/testing/sysfs-bus-pci#L344-L355\n",
            "2024-09-06 04:40:51.481341: I external/local_xla/xla/stream_executor/cuda/cuda_executor.cc:901] successful NUMA node read from SysFS had negative value (-1), but there must be at least one NUMA node, so returning NUMA node zero. See more at https://github.com/torvalds/linux/blob/v6.0/Documentation/ABI/testing/sysfs-bus-pci#L344-L355\n",
            "2024-09-06 04:40:51.481593: I external/local_xla/xla/stream_executor/cuda/cuda_executor.cc:901] successful NUMA node read from SysFS had negative value (-1), but there must be at least one NUMA node, so returning NUMA node zero. See more at https://github.com/torvalds/linux/blob/v6.0/Documentation/ABI/testing/sysfs-bus-pci#L344-L355\n",
            "2024-09-06 04:40:51.481799: I external/local_xla/xla/stream_executor/cuda/cuda_executor.cc:901] successful NUMA node read from SysFS had negative value (-1), but there must be at least one NUMA node, so returning NUMA node zero. See more at https://github.com/torvalds/linux/blob/v6.0/Documentation/ABI/testing/sysfs-bus-pci#L344-L355\n",
            "2024-09-06 04:40:51.595126: I external/local_xla/xla/stream_executor/cuda/cuda_executor.cc:901] successful NUMA node read from SysFS had negative value (-1), but there must be at least one NUMA node, so returning NUMA node zero. See more at https://github.com/torvalds/linux/blob/v6.0/Documentation/ABI/testing/sysfs-bus-pci#L344-L355\n",
            "2024-09-06 04:40:51.595404: I external/local_xla/xla/stream_executor/cuda/cuda_executor.cc:901] successful NUMA node read from SysFS had negative value (-1), but there must be at least one NUMA node, so returning NUMA node zero. See more at https://github.com/torvalds/linux/blob/v6.0/Documentation/ABI/testing/sysfs-bus-pci#L344-L355\n",
            "2024-09-06 04:40:51.595637: I external/local_xla/xla/stream_executor/cuda/cuda_executor.cc:901] successful NUMA node read from SysFS had negative value (-1), but there must be at least one NUMA node, so returning NUMA node zero. See more at https://github.com/torvalds/linux/blob/v6.0/Documentation/ABI/testing/sysfs-bus-pci#L344-L355\n",
            "2024-09-06 04:40:51.595750: I tensorflow/core/common_runtime/gpu/gpu_device.cc:1929] Created device /job:localhost/replica:0/task:0/device:GPU:0 with 5052 MB memory:  -> device: 0, name: NVIDIA GeForce GTX 1060 6GB, pci bus id: 0000:01:00.0, compute capability: 6.1\n"
          ]
        }
      ],
      "source": [
        "from tensorflow import keras\n",
        "from tensorflow.keras.layers import LSTM, Dense, Dropout, BatchNormalization, Bidirectional\n",
        "\n",
        "# Inputs\n",
        "input_shape = (X_train.shape[1], X_train.shape[2])\n",
        "inputs = keras.Input(shape=input_shape)\n",
        "\n",
        "# Architecture\n",
        "x = Bidirectional(LSTM(64, return_sequences=True))(inputs)\n",
        "x = BatchNormalization()(x)\n",
        "x = Dropout(0.2)(x)\n",
        "\n",
        "x = Bidirectional(LSTM(64, return_sequences=True))(x)\n",
        "x = BatchNormalization()(x)\n",
        "x = Dropout(0.3)(x)\n",
        "\n",
        "x = Bidirectional(LSTM(64))(x)\n",
        "x = BatchNormalization()(x)\n",
        "x = Dropout(0.4)(x)\n",
        "\n",
        "outputs = Dense(3, activation='softmax')(x)\n",
        "\n",
        "# Create the model\n",
        "model = keras.Model(inputs=inputs, outputs=outputs)"
      ]
    },
    {
      "cell_type": "markdown",
      "metadata": {},
      "source": [
        "## Compile Model\n",
        "\n",
        "**Loss function:** \\\n",
        "Use the *Sparse Categorical Crossentropy* loss function because it is a `multi-class classification` problem.\n",
        "\n",
        "**Optimizer: RMSprop** \\\n",
        "Exploring the *Adam* optimizer."
      ]
    },
    {
      "cell_type": "code",
      "execution_count": 12,
      "metadata": {},
      "outputs": [],
      "source": [
        "# model.compile(optimizer='adam', loss='sparse_categorical_crossentropy', metrics=['accuracy'])\n",
        "\n",
        "# import adam\n",
        "from tensorflow.keras.optimizers import Adam\n",
        "\n",
        "model.compile(optimizer=Adam(learning_rate=1e-3), loss='sparse_categorical_crossentropy', metrics=['accuracy'])"
      ]
    },
    {
      "cell_type": "code",
      "execution_count": 13,
      "metadata": {},
      "outputs": [
        {
          "name": "stdout",
          "output_type": "stream",
          "text": [
            "Model: \"model\"\n",
            "_________________________________________________________________\n",
            " Layer (type)                Output Shape              Param #   \n",
            "=================================================================\n",
            " input_1 (InputLayer)        [(None, 16, 8)]           0         \n",
            "                                                                 \n",
            " bidirectional (Bidirection  (None, 16, 128)           37376     \n",
            " al)                                                             \n",
            "                                                                 \n",
            " batch_normalization (Batch  (None, 16, 128)           512       \n",
            " Normalization)                                                  \n",
            "                                                                 \n",
            " dropout (Dropout)           (None, 16, 128)           0         \n",
            "                                                                 \n",
            " bidirectional_1 (Bidirecti  (None, 16, 128)           98816     \n",
            " onal)                                                           \n",
            "                                                                 \n",
            " batch_normalization_1 (Bat  (None, 16, 128)           512       \n",
            " chNormalization)                                                \n",
            "                                                                 \n",
            " dropout_1 (Dropout)         (None, 16, 128)           0         \n",
            "                                                                 \n",
            " bidirectional_2 (Bidirecti  (None, 128)               98816     \n",
            " onal)                                                           \n",
            "                                                                 \n",
            " batch_normalization_2 (Bat  (None, 128)               512       \n",
            " chNormalization)                                                \n",
            "                                                                 \n",
            " dropout_2 (Dropout)         (None, 128)               0         \n",
            "                                                                 \n",
            " dense (Dense)               (None, 3)                 387       \n",
            "                                                                 \n",
            "=================================================================\n",
            "Total params: 236931 (925.51 KB)\n",
            "Trainable params: 236163 (922.51 KB)\n",
            "Non-trainable params: 768 (3.00 KB)\n",
            "_________________________________________________________________\n"
          ]
        }
      ],
      "source": [
        "model.summary()"
      ]
    },
    {
      "cell_type": "markdown",
      "metadata": {},
      "source": [
        "## Train Model\n",
        "\n",
        "- 100 epochs\n",
        "- Batch size of 16\n",
        "- Early stopping\n",
        "- Learning rate reduction on plateau\n",
        "- Model checkpoint"
      ]
    },
    {
      "cell_type": "code",
      "execution_count": 14,
      "metadata": {},
      "outputs": [
        {
          "name": "stdout",
          "output_type": "stream",
          "text": [
            "Epoch 1/100\n"
          ]
        },
        {
          "name": "stderr",
          "output_type": "stream",
          "text": [
            "2024-09-06 04:41:01.899721: I external/local_xla/xla/stream_executor/cuda/cuda_dnn.cc:454] Loaded cuDNN version 8904\n",
            "2024-09-06 04:41:03.274865: I external/local_xla/xla/service/service.cc:168] XLA service 0x7313ac9ecc00 initialized for platform CUDA (this does not guarantee that XLA will be used). Devices:\n",
            "2024-09-06 04:41:03.274920: I external/local_xla/xla/service/service.cc:176]   StreamExecutor device (0): NVIDIA GeForce GTX 1060 6GB, Compute Capability 6.1\n",
            "2024-09-06 04:41:03.298414: I tensorflow/compiler/mlir/tensorflow/utils/dump_mlir_util.cc:269] disabling MLIR crash reproducer, set env var `MLIR_CRASH_REPRODUCER_DIRECTORY` to enable.\n",
            "WARNING: All log messages before absl::InitializeLog() is called are written to STDERR\n",
            "I0000 00:00:1725594063.404596    6752 device_compiler.h:186] Compiled cluster using XLA!  This line is logged at most once for the lifetime of the process.\n"
          ]
        },
        {
          "name": "stdout",
          "output_type": "stream",
          "text": [
            "183/183 [==============================] - 15s 22ms/step - loss: 1.4941 - accuracy: 0.3652 - val_loss: 1.3970 - val_accuracy: 0.4356 - lr: 0.0010\n",
            "Epoch 2/100\n",
            "183/183 [==============================] - 2s 12ms/step - loss: 1.2209 - accuracy: 0.4031 - val_loss: 1.3842 - val_accuracy: 0.2546 - lr: 0.0010\n",
            "Epoch 3/100\n",
            "183/183 [==============================] - 2s 12ms/step - loss: 1.0432 - accuracy: 0.4674 - val_loss: 3.9733 - val_accuracy: 0.2546 - lr: 0.0010\n",
            "Epoch 4/100\n",
            "183/183 [==============================] - 2s 14ms/step - loss: 0.9264 - accuracy: 0.5518 - val_loss: 3.0883 - val_accuracy: 0.2546 - lr: 0.0010\n",
            "Epoch 5/100\n",
            "183/183 [==============================] - 2s 12ms/step - loss: 0.8389 - accuracy: 0.6143 - val_loss: 3.9453 - val_accuracy: 0.2546 - lr: 0.0010\n",
            "Epoch 6/100\n",
            "183/183 [==============================] - 2s 11ms/step - loss: 0.7846 - accuracy: 0.6488 - val_loss: 3.0666 - val_accuracy: 0.2546 - lr: 0.0010\n",
            "Epoch 7/100\n",
            "183/183 [==============================] - 2s 11ms/step - loss: 0.7523 - accuracy: 0.6594 - val_loss: 4.1420 - val_accuracy: 0.2546 - lr: 0.0010\n",
            "Epoch 8/100\n",
            "183/183 [==============================] - 3s 14ms/step - loss: 0.7154 - accuracy: 0.6956 - val_loss: 0.9623 - val_accuracy: 0.5675 - lr: 0.0010\n",
            "Epoch 9/100\n",
            "183/183 [==============================] - 2s 13ms/step - loss: 0.7025 - accuracy: 0.6901 - val_loss: 1.4634 - val_accuracy: 0.2577 - lr: 0.0010\n",
            "Epoch 10/100\n",
            "183/183 [==============================] - 2s 12ms/step - loss: 0.6946 - accuracy: 0.6963 - val_loss: 3.4947 - val_accuracy: 0.2546 - lr: 0.0010\n",
            "Epoch 11/100\n",
            "183/183 [==============================] - 2s 12ms/step - loss: 0.6614 - accuracy: 0.7082 - val_loss: 2.0602 - val_accuracy: 0.3405 - lr: 0.0010\n",
            "Epoch 12/100\n",
            "183/183 [==============================] - 2s 12ms/step - loss: 0.6535 - accuracy: 0.7144 - val_loss: 3.2124 - val_accuracy: 0.2546 - lr: 0.0010\n",
            "Epoch 13/100\n",
            "183/183 [==============================] - 2s 11ms/step - loss: 0.6387 - accuracy: 0.7400 - val_loss: 2.1357 - val_accuracy: 0.2730 - lr: 0.0010\n",
            "Epoch 14/100\n",
            "183/183 [==============================] - 2s 11ms/step - loss: 0.6068 - accuracy: 0.7410 - val_loss: 5.5884 - val_accuracy: 0.2546 - lr: 0.0010\n",
            "Epoch 15/100\n",
            "179/183 [============================>.] - ETA: 0s - loss: 0.5745 - accuracy: 0.7559\n",
            "Epoch 15: ReduceLROnPlateau reducing learning rate to 0.0005000000237487257.\n",
            "183/183 [==============================] - 2s 11ms/step - loss: 0.5754 - accuracy: 0.7554 - val_loss: 2.6004 - val_accuracy: 0.2546 - lr: 0.0010\n",
            "Epoch 16/100\n",
            "183/183 [==============================] - 2s 12ms/step - loss: 0.5508 - accuracy: 0.7595 - val_loss: 2.2171 - val_accuracy: 0.2945 - lr: 5.0000e-04\n",
            "Epoch 17/100\n",
            "183/183 [==============================] - 2s 12ms/step - loss: 0.5262 - accuracy: 0.7656 - val_loss: 3.3196 - val_accuracy: 0.2515 - lr: 5.0000e-04\n",
            "Epoch 18/100\n",
            "183/183 [==============================] - 2s 12ms/step - loss: 0.5103 - accuracy: 0.7861 - val_loss: 2.9023 - val_accuracy: 0.3558 - lr: 5.0000e-04\n",
            "Epoch 19/100\n",
            "183/183 [==============================] - 2s 12ms/step - loss: 0.4843 - accuracy: 0.7851 - val_loss: 5.3244 - val_accuracy: 0.2577 - lr: 5.0000e-04\n",
            "Epoch 20/100\n",
            "183/183 [==============================] - 2s 11ms/step - loss: 0.4659 - accuracy: 0.8015 - val_loss: 2.4647 - val_accuracy: 0.2546 - lr: 5.0000e-04\n",
            "Epoch 21/100\n",
            "183/183 [==============================] - 2s 12ms/step - loss: 0.4538 - accuracy: 0.8111 - val_loss: 1.6387 - val_accuracy: 0.4479 - lr: 5.0000e-04\n",
            "Epoch 22/100\n",
            "183/183 [==============================] - ETA: 0s - loss: 0.4417 - accuracy: 0.8172\n",
            "Epoch 22: ReduceLROnPlateau reducing learning rate to 0.0002500000118743628.\n",
            "183/183 [==============================] - 2s 12ms/step - loss: 0.4417 - accuracy: 0.8172 - val_loss: 6.2895 - val_accuracy: 0.2546 - lr: 5.0000e-04\n",
            "Epoch 23/100\n",
            "183/183 [==============================] - 2s 12ms/step - loss: 0.4301 - accuracy: 0.8152 - val_loss: 1.9541 - val_accuracy: 0.3773 - lr: 2.5000e-04\n",
            "Epoch 24/100\n",
            "183/183 [==============================] - 2s 12ms/step - loss: 0.3981 - accuracy: 0.8326 - val_loss: 1.8619 - val_accuracy: 0.3896 - lr: 2.5000e-04\n",
            "Epoch 25/100\n",
            "183/183 [==============================] - 2s 12ms/step - loss: 0.3829 - accuracy: 0.8446 - val_loss: 1.2812 - val_accuracy: 0.5460 - lr: 2.5000e-04\n",
            "Epoch 26/100\n",
            "183/183 [==============================] - 2s 12ms/step - loss: 0.3677 - accuracy: 0.8487 - val_loss: 2.2558 - val_accuracy: 0.4294 - lr: 2.5000e-04\n",
            "Epoch 27/100\n",
            "183/183 [==============================] - 2s 11ms/step - loss: 0.3592 - accuracy: 0.8480 - val_loss: 1.7739 - val_accuracy: 0.2914 - lr: 2.5000e-04\n",
            "Epoch 28/100\n",
            "183/183 [==============================] - 2s 12ms/step - loss: 0.3608 - accuracy: 0.8500 - val_loss: 0.8453 - val_accuracy: 0.6626 - lr: 2.5000e-04\n",
            "Epoch 29/100\n",
            "183/183 [==============================] - 2s 11ms/step - loss: 0.3528 - accuracy: 0.8575 - val_loss: 1.1645 - val_accuracy: 0.4387 - lr: 2.5000e-04\n",
            "Epoch 30/100\n",
            "183/183 [==============================] - 2s 11ms/step - loss: 0.3354 - accuracy: 0.8650 - val_loss: 1.5935 - val_accuracy: 0.4663 - lr: 2.5000e-04\n",
            "Epoch 31/100\n",
            "183/183 [==============================] - 2s 12ms/step - loss: 0.3324 - accuracy: 0.8661 - val_loss: 1.2504 - val_accuracy: 0.4601 - lr: 2.5000e-04\n",
            "Epoch 32/100\n",
            "183/183 [==============================] - 2s 12ms/step - loss: 0.3215 - accuracy: 0.8657 - val_loss: 3.8626 - val_accuracy: 0.2546 - lr: 2.5000e-04\n",
            "Epoch 33/100\n",
            "183/183 [==============================] - 2s 11ms/step - loss: 0.3271 - accuracy: 0.8644 - val_loss: 1.8507 - val_accuracy: 0.3589 - lr: 2.5000e-04\n",
            "Epoch 34/100\n",
            "183/183 [==============================] - 2s 11ms/step - loss: 0.3083 - accuracy: 0.8732 - val_loss: 3.5650 - val_accuracy: 0.4540 - lr: 2.5000e-04\n",
            "Epoch 35/100\n",
            "179/183 [============================>.] - ETA: 0s - loss: 0.2743 - accuracy: 0.8893\n",
            "Epoch 35: ReduceLROnPlateau reducing learning rate to 0.0001250000059371814.\n",
            "183/183 [==============================] - 2s 11ms/step - loss: 0.2764 - accuracy: 0.8883 - val_loss: 1.4283 - val_accuracy: 0.5613 - lr: 2.5000e-04\n",
            "Epoch 36/100\n",
            "183/183 [==============================] - 2s 12ms/step - loss: 0.2939 - accuracy: 0.8876 - val_loss: 0.7007 - val_accuracy: 0.6963 - lr: 1.2500e-04\n",
            "Epoch 37/100\n",
            "183/183 [==============================] - 2s 12ms/step - loss: 0.2805 - accuracy: 0.8893 - val_loss: 0.6576 - val_accuracy: 0.7515 - lr: 1.2500e-04\n",
            "Epoch 38/100\n",
            "183/183 [==============================] - 2s 11ms/step - loss: 0.2563 - accuracy: 0.8989 - val_loss: 1.0887 - val_accuracy: 0.6626 - lr: 1.2500e-04\n",
            "Epoch 39/100\n",
            "183/183 [==============================] - 2s 11ms/step - loss: 0.2576 - accuracy: 0.9002 - val_loss: 0.8311 - val_accuracy: 0.6933 - lr: 1.2500e-04\n",
            "Epoch 40/100\n",
            "183/183 [==============================] - 2s 11ms/step - loss: 0.2532 - accuracy: 0.8996 - val_loss: 1.0443 - val_accuracy: 0.6595 - lr: 1.2500e-04\n",
            "Epoch 41/100\n",
            "183/183 [==============================] - 2s 12ms/step - loss: 0.2505 - accuracy: 0.9009 - val_loss: 0.6308 - val_accuracy: 0.7638 - lr: 1.2500e-04\n",
            "Epoch 42/100\n",
            "183/183 [==============================] - 2s 11ms/step - loss: 0.2339 - accuracy: 0.9098 - val_loss: 2.8024 - val_accuracy: 0.4571 - lr: 1.2500e-04\n",
            "Epoch 43/100\n",
            "183/183 [==============================] - 2s 12ms/step - loss: 0.2362 - accuracy: 0.9047 - val_loss: 3.0929 - val_accuracy: 0.4724 - lr: 1.2500e-04\n",
            "Epoch 44/100\n",
            "183/183 [==============================] - 2s 11ms/step - loss: 0.2258 - accuracy: 0.9153 - val_loss: 1.2762 - val_accuracy: 0.5337 - lr: 1.2500e-04\n",
            "Epoch 45/100\n",
            "183/183 [==============================] - 2s 11ms/step - loss: 0.2344 - accuracy: 0.9139 - val_loss: 3.3154 - val_accuracy: 0.4755 - lr: 1.2500e-04\n",
            "Epoch 46/100\n",
            "183/183 [==============================] - 2s 11ms/step - loss: 0.2101 - accuracy: 0.9183 - val_loss: 1.2531 - val_accuracy: 0.4969 - lr: 1.2500e-04\n",
            "Epoch 47/100\n",
            "183/183 [==============================] - 2s 11ms/step - loss: 0.2153 - accuracy: 0.9125 - val_loss: 0.9618 - val_accuracy: 0.6656 - lr: 1.2500e-04\n",
            "Epoch 48/100\n",
            "183/183 [==============================] - 2s 12ms/step - loss: 0.2007 - accuracy: 0.9248 - val_loss: 0.5856 - val_accuracy: 0.7945 - lr: 1.2500e-04\n",
            "Epoch 49/100\n",
            "183/183 [==============================] - 2s 11ms/step - loss: 0.2205 - accuracy: 0.9125 - val_loss: 0.9051 - val_accuracy: 0.7147 - lr: 1.2500e-04\n",
            "Epoch 50/100\n",
            "183/183 [==============================] - 2s 11ms/step - loss: 0.2152 - accuracy: 0.9177 - val_loss: 1.7789 - val_accuracy: 0.4755 - lr: 1.2500e-04\n",
            "Epoch 51/100\n",
            "183/183 [==============================] - 2s 11ms/step - loss: 0.2087 - accuracy: 0.9238 - val_loss: 1.3959 - val_accuracy: 0.6043 - lr: 1.2500e-04\n",
            "Epoch 52/100\n",
            "183/183 [==============================] - 2s 11ms/step - loss: 0.2123 - accuracy: 0.9204 - val_loss: 1.1434 - val_accuracy: 0.7147 - lr: 1.2500e-04\n",
            "Epoch 53/100\n",
            "183/183 [==============================] - 2s 11ms/step - loss: 0.1922 - accuracy: 0.9265 - val_loss: 2.0136 - val_accuracy: 0.3497 - lr: 1.2500e-04\n",
            "Epoch 54/100\n",
            "183/183 [==============================] - 2s 11ms/step - loss: 0.1936 - accuracy: 0.9231 - val_loss: 1.2257 - val_accuracy: 0.6779 - lr: 1.2500e-04\n",
            "Epoch 55/100\n",
            "181/183 [============================>.] - ETA: 0s - loss: 0.1922 - accuracy: 0.9251\n",
            "Epoch 55: ReduceLROnPlateau reducing learning rate to 6.25000029685907e-05.\n",
            "183/183 [==============================] - 2s 12ms/step - loss: 0.1919 - accuracy: 0.9252 - val_loss: 0.7199 - val_accuracy: 0.7669 - lr: 1.2500e-04\n",
            "Epoch 56/100\n",
            "183/183 [==============================] - 2s 11ms/step - loss: 0.1986 - accuracy: 0.9279 - val_loss: 1.3802 - val_accuracy: 0.6810 - lr: 6.2500e-05\n",
            "Epoch 57/100\n",
            "183/183 [==============================] - 2s 11ms/step - loss: 0.1942 - accuracy: 0.9272 - val_loss: 0.7240 - val_accuracy: 0.7822 - lr: 6.2500e-05\n",
            "Epoch 58/100\n",
            "183/183 [==============================] - 2s 12ms/step - loss: 0.1701 - accuracy: 0.9395 - val_loss: 0.8832 - val_accuracy: 0.7454 - lr: 6.2500e-05\n",
            "Epoch 59/100\n",
            "183/183 [==============================] - 2s 11ms/step - loss: 0.1793 - accuracy: 0.9324 - val_loss: 0.8780 - val_accuracy: 0.7454 - lr: 6.2500e-05\n",
            "Epoch 60/100\n",
            "183/183 [==============================] - 2s 11ms/step - loss: 0.1680 - accuracy: 0.9392 - val_loss: 0.7033 - val_accuracy: 0.7914 - lr: 6.2500e-05\n",
            "Epoch 61/100\n",
            "183/183 [==============================] - 2s 12ms/step - loss: 0.1658 - accuracy: 0.9361 - val_loss: 0.8528 - val_accuracy: 0.7577 - lr: 6.2500e-05\n",
            "Epoch 62/100\n",
            "183/183 [==============================] - 2s 12ms/step - loss: 0.1960 - accuracy: 0.9286 - val_loss: 0.5361 - val_accuracy: 0.8252 - lr: 6.2500e-05\n",
            "Epoch 63/100\n",
            "183/183 [==============================] - 2s 11ms/step - loss: 0.1637 - accuracy: 0.9392 - val_loss: 0.9234 - val_accuracy: 0.7485 - lr: 6.2500e-05\n",
            "Epoch 64/100\n",
            "183/183 [==============================] - 2s 12ms/step - loss: 0.1749 - accuracy: 0.9286 - val_loss: 0.4806 - val_accuracy: 0.8313 - lr: 6.2500e-05\n",
            "Epoch 65/100\n",
            "183/183 [==============================] - 2s 12ms/step - loss: 0.1477 - accuracy: 0.9426 - val_loss: 0.3011 - val_accuracy: 0.8712 - lr: 6.2500e-05\n",
            "Epoch 66/100\n",
            "183/183 [==============================] - 2s 12ms/step - loss: 0.1762 - accuracy: 0.9334 - val_loss: 2.3519 - val_accuracy: 0.5736 - lr: 6.2500e-05\n",
            "Epoch 67/100\n",
            "183/183 [==============================] - 2s 12ms/step - loss: 0.1743 - accuracy: 0.9358 - val_loss: 1.1280 - val_accuracy: 0.7485 - lr: 6.2500e-05\n",
            "Epoch 68/100\n",
            "183/183 [==============================] - 2s 12ms/step - loss: 0.1807 - accuracy: 0.9324 - val_loss: 0.7085 - val_accuracy: 0.7853 - lr: 6.2500e-05\n",
            "Epoch 69/100\n",
            "183/183 [==============================] - 2s 11ms/step - loss: 0.1835 - accuracy: 0.9341 - val_loss: 1.1763 - val_accuracy: 0.6472 - lr: 6.2500e-05\n",
            "Epoch 70/100\n",
            "183/183 [==============================] - 2s 12ms/step - loss: 0.1647 - accuracy: 0.9395 - val_loss: 0.5710 - val_accuracy: 0.8221 - lr: 6.2500e-05\n",
            "Epoch 71/100\n",
            "183/183 [==============================] - 2s 11ms/step - loss: 0.1675 - accuracy: 0.9365 - val_loss: 0.3500 - val_accuracy: 0.8497 - lr: 6.2500e-05\n",
            "Epoch 72/100\n",
            "179/183 [============================>.] - ETA: 0s - loss: 0.1693 - accuracy: 0.9375\n",
            "Epoch 72: ReduceLROnPlateau reducing learning rate to 3.125000148429535e-05.\n",
            "183/183 [==============================] - 2s 11ms/step - loss: 0.1686 - accuracy: 0.9371 - val_loss: 1.5579 - val_accuracy: 0.6564 - lr: 6.2500e-05\n",
            "Epoch 73/100\n",
            "183/183 [==============================] - 2s 11ms/step - loss: 0.1615 - accuracy: 0.9453 - val_loss: 0.3035 - val_accuracy: 0.9049 - lr: 3.1250e-05\n",
            "Epoch 74/100\n",
            "183/183 [==============================] - 2s 11ms/step - loss: 0.1415 - accuracy: 0.9488 - val_loss: 0.3732 - val_accuracy: 0.8773 - lr: 3.1250e-05\n",
            "Epoch 75/100\n",
            "183/183 [==============================] - 2s 11ms/step - loss: 0.1493 - accuracy: 0.9453 - val_loss: 1.4892 - val_accuracy: 0.6442 - lr: 3.1250e-05\n",
            "Epoch 76/100\n",
            "183/183 [==============================] - 2s 11ms/step - loss: 0.1406 - accuracy: 0.9522 - val_loss: 0.8702 - val_accuracy: 0.7699 - lr: 3.1250e-05\n",
            "Epoch 77/100\n",
            "183/183 [==============================] - 2s 11ms/step - loss: 0.1583 - accuracy: 0.9423 - val_loss: 0.7594 - val_accuracy: 0.8006 - lr: 3.1250e-05\n",
            "Epoch 78/100\n",
            "183/183 [==============================] - 2s 13ms/step - loss: 0.1296 - accuracy: 0.9522 - val_loss: 0.4303 - val_accuracy: 0.8497 - lr: 3.1250e-05\n",
            "Epoch 79/100\n",
            "183/183 [==============================] - 2s 13ms/step - loss: 0.1383 - accuracy: 0.9508 - val_loss: 0.1481 - val_accuracy: 0.9387 - lr: 3.1250e-05\n",
            "Epoch 80/100\n",
            "183/183 [==============================] - 2s 12ms/step - loss: 0.1435 - accuracy: 0.9467 - val_loss: 0.5367 - val_accuracy: 0.8129 - lr: 3.1250e-05\n",
            "Epoch 81/100\n",
            "183/183 [==============================] - 2s 12ms/step - loss: 0.1608 - accuracy: 0.9375 - val_loss: 0.3766 - val_accuracy: 0.8436 - lr: 3.1250e-05\n",
            "Epoch 82/100\n",
            "183/183 [==============================] - 2s 12ms/step - loss: 0.1458 - accuracy: 0.9409 - val_loss: 0.6979 - val_accuracy: 0.7914 - lr: 3.1250e-05\n",
            "Epoch 83/100\n",
            "183/183 [==============================] - 2s 12ms/step - loss: 0.1397 - accuracy: 0.9464 - val_loss: 0.1984 - val_accuracy: 0.9233 - lr: 3.1250e-05\n",
            "Epoch 84/100\n",
            "183/183 [==============================] - 2s 12ms/step - loss: 0.1368 - accuracy: 0.9474 - val_loss: 0.8116 - val_accuracy: 0.7638 - lr: 3.1250e-05\n",
            "Epoch 85/100\n",
            "183/183 [==============================] - 2s 12ms/step - loss: 0.1275 - accuracy: 0.9542 - val_loss: 0.1777 - val_accuracy: 0.9356 - lr: 3.1250e-05\n",
            "Epoch 86/100\n",
            "179/183 [============================>.] - ETA: 0s - loss: 0.1311 - accuracy: 0.9515\n",
            "Epoch 86: ReduceLROnPlateau reducing learning rate to 1.5625000742147677e-05.\n",
            "183/183 [==============================] - 2s 11ms/step - loss: 0.1309 - accuracy: 0.9515 - val_loss: 0.6431 - val_accuracy: 0.8313 - lr: 3.1250e-05\n",
            "Epoch 87/100\n",
            "183/183 [==============================] - 2s 12ms/step - loss: 0.1487 - accuracy: 0.9447 - val_loss: 0.1290 - val_accuracy: 0.9601 - lr: 1.5625e-05\n",
            "Epoch 88/100\n",
            "183/183 [==============================] - 2s 11ms/step - loss: 0.1417 - accuracy: 0.9443 - val_loss: 0.2115 - val_accuracy: 0.9049 - lr: 1.5625e-05\n",
            "Epoch 89/100\n",
            "183/183 [==============================] - 2s 12ms/step - loss: 0.1562 - accuracy: 0.9443 - val_loss: 0.2460 - val_accuracy: 0.9202 - lr: 1.5625e-05\n",
            "Epoch 90/100\n",
            "183/183 [==============================] - 2s 11ms/step - loss: 0.1300 - accuracy: 0.9522 - val_loss: 0.1429 - val_accuracy: 0.9448 - lr: 1.5625e-05\n",
            "Epoch 91/100\n",
            "183/183 [==============================] - 2s 12ms/step - loss: 0.1205 - accuracy: 0.9552 - val_loss: 0.5239 - val_accuracy: 0.8221 - lr: 1.5625e-05\n",
            "Epoch 92/100\n",
            "183/183 [==============================] - 2s 12ms/step - loss: 0.1428 - accuracy: 0.9511 - val_loss: 0.0963 - val_accuracy: 0.9601 - lr: 1.5625e-05\n",
            "Epoch 93/100\n",
            "183/183 [==============================] - 2s 12ms/step - loss: 0.1231 - accuracy: 0.9580 - val_loss: 0.1100 - val_accuracy: 0.9571 - lr: 1.5625e-05\n",
            "Epoch 94/100\n",
            "179/183 [============================>.] - ETA: 0s - loss: 0.1245 - accuracy: 0.9578\n",
            "Epoch 94: ReduceLROnPlateau reducing learning rate to 7.812500371073838e-06.\n",
            "183/183 [==============================] - 2s 12ms/step - loss: 0.1241 - accuracy: 0.9583 - val_loss: 0.2397 - val_accuracy: 0.9141 - lr: 1.5625e-05\n",
            "Epoch 95/100\n",
            "183/183 [==============================] - 2s 11ms/step - loss: 0.1386 - accuracy: 0.9511 - val_loss: 0.1163 - val_accuracy: 0.9509 - lr: 7.8125e-06\n",
            "Epoch 96/100\n",
            "183/183 [==============================] - 2s 12ms/step - loss: 0.1398 - accuracy: 0.9525 - val_loss: 0.1150 - val_accuracy: 0.9540 - lr: 7.8125e-06\n",
            "Epoch 97/100\n",
            "183/183 [==============================] - 2s 12ms/step - loss: 0.1401 - accuracy: 0.9505 - val_loss: 0.1414 - val_accuracy: 0.9356 - lr: 7.8125e-06\n",
            "Epoch 98/100\n",
            "183/183 [==============================] - 2s 12ms/step - loss: 0.1417 - accuracy: 0.9450 - val_loss: 0.0960 - val_accuracy: 0.9601 - lr: 7.8125e-06\n",
            "Epoch 99/100\n",
            "183/183 [==============================] - 2s 11ms/step - loss: 0.1306 - accuracy: 0.9511 - val_loss: 0.1041 - val_accuracy: 0.9601 - lr: 7.8125e-06\n",
            "Epoch 100/100\n",
            "183/183 [==============================] - 2s 11ms/step - loss: 0.1431 - accuracy: 0.9429 - val_loss: 0.1043 - val_accuracy: 0.9571 - lr: 7.8125e-06\n"
          ]
        }
      ],
      "source": [
        "from tensorflow.keras.callbacks import EarlyStopping, ModelCheckpoint, ReduceLROnPlateau\n",
        "\n",
        "learning_rate_reduction = ReduceLROnPlateau(\n",
        "    monitor='val_accuracy', \n",
        "    patience=7, \n",
        "    verbose=1, \n",
        "    factor=0.5, \n",
        "    min_lr=1e-8)\n",
        "\n",
        "early_stop = EarlyStopping(monitor='val_accuracy',\n",
        "                           patience=12,\n",
        "                           restore_best_weights=True)\n",
        "model_checkpoint = ModelCheckpoint('runtime_saves/models/checkpoints/2A-BidirecionalLSTM-cp.keras', save_best_only=True)\n",
        "\n",
        "\n",
        "history = model.fit(\n",
        "    X_train, y_train,\n",
        "    epochs=100,\n",
        "    batch_size=16,\n",
        "    validation_data=(X_validation, y_validation),\n",
        "    verbose=1,\n",
        "    callbacks=[model_checkpoint, learning_rate_reduction])"
      ]
    },
    {
      "cell_type": "markdown",
      "metadata": {},
      "source": [
        "## Save Model"
      ]
    },
    {
      "cell_type": "code",
      "execution_count": 15,
      "metadata": {},
      "outputs": [],
      "source": [
        "model.save('runtime_saves/models/2A-BidirecionalLSTM.keras')"
      ]
    },
    {
      "cell_type": "markdown",
      "metadata": {},
      "source": [
        "## Load Model"
      ]
    },
    {
      "cell_type": "code",
      "execution_count": 16,
      "metadata": {},
      "outputs": [],
      "source": [
        "from keras.models import load_model\n",
        "\n",
        "model = load_model('runtime_saves/models/2A-BidirecionalLSTM.keras')"
      ]
    },
    {
      "cell_type": "markdown",
      "metadata": {
        "id": "Ct_S460uGhxP"
      },
      "source": [
        "# **RESULTS AND EVALUATION**"
      ]
    },
    {
      "cell_type": "markdown",
      "metadata": {},
      "source": [
        "## Training History"
      ]
    },
    {
      "cell_type": "code",
      "execution_count": 17,
      "metadata": {},
      "outputs": [
        {
          "data": {
            "image/png": "[encoded data removed]",
            "text/plain": [
              "<Figure size 640x480 with 1 Axes>"
            ]
          },
          "metadata": {},
          "output_type": "display_data"
        },
        {
          "data": {
            "image/png": "[encoded data removed]",
            "text/plain": [
              "<Figure size 640x480 with 1 Axes>"
            ]
          },
          "metadata": {},
          "output_type": "display_data"
        }
      ],
      "source": [
        "import matplotlib.pyplot as plt\n",
        "\n",
        "# Extract the history from the training process\n",
        "acc = history.history['accuracy']\n",
        "val_acc = history.history['val_accuracy']\n",
        "loss = history.history['loss']\n",
        "val_loss = history.history['val_loss']\n",
        "epochs = range(1, len(acc) + 1)\n",
        "\n",
        "# Plot the training and validation accuracy\n",
        "plt.plot(epochs, acc, 'bo', label='Training acc')\n",
        "plt.plot(epochs, val_acc, 'b', label='Validation acc')\n",
        "plt.title('Training and validation accuracy')\n",
        "plt.legend()\n",
        "\n",
        "# Plot the training and validation loss\n",
        "plt.figure()\n",
        "plt.plot(epochs, loss, 'bo', label='Training loss')\n",
        "plt.plot(epochs, val_loss, 'b', label='Validation loss')\n",
        "plt.title('Training and validation loss')\n",
        "plt.legend()\n",
        "plt.show()"
      ]
    },
    {
      "cell_type": "markdown",
      "metadata": {},
      "source": [
        "## Evaluate the model"
      ]
    },
    {
      "cell_type": "code",
      "execution_count": 18,
      "metadata": {},
      "outputs": [
        {
          "name": "stdout",
          "output_type": "stream",
          "text": [
            "Train accuracy: 99.0092%\n",
            "Train loss: 0.0304\n",
            "\n",
            "Test accuracy: 96.3145%\n",
            "Test loss: 0.1080\n",
            "\n",
            "Validation accuracy: 95.7055%\n",
            "Validation loss: 0.1043\n"
          ]
        }
      ],
      "source": [
        "# Train accuracy and loss\n",
        "train_loss, train_accuracy = model.evaluate(X_train, y_train, verbose=0)\n",
        "print(f'Train accuracy: {train_accuracy*100:.4f}%')\n",
        "print(f'Train loss: {train_loss:.4f}')\n",
        "print()\n",
        "\n",
        "# Test accuracy and loss\n",
        "test_loss, test_accuracy = model.evaluate(X_test, y_test, verbose=0)\n",
        "print(f'Test accuracy: {test_accuracy*100:.4f}%')\n",
        "print(f'Test loss: {test_loss:.4f}')\n",
        "print()\n",
        "\n",
        "# Validation accuracy and loss\n",
        "validation_loss, validation_accuracy = model.evaluate(X_validation, y_validation, verbose=0)\n",
        "print(f'Validation accuracy: {validation_accuracy*100:.4f}%')\n",
        "print(f'Validation loss: {validation_loss:.4f}')"
      ]
    },
    {
      "cell_type": "markdown",
      "metadata": {},
      "source": [
        "## Confusion Matrix"
      ]
    },
    {
      "cell_type": "code",
      "execution_count": 19,
      "metadata": {},
      "outputs": [
        {
          "name": "stdout",
          "output_type": "stream",
          "text": [
            "26/26 [==============================] - 2s 5ms/step\n",
            "[[195   2   9]\n",
            " [  2 239  13]\n",
            " [  1   3 350]]\n"
          ]
        },
        {
          "data": {
            "image/png": "[encoded data removed]",
            "text/plain": [
              "<Figure size 1000x600 with 2 Axes>"
            ]
          },
          "metadata": {},
          "output_type": "display_data"
        }
      ],
      "source": [
        "from sklearn import metrics\n",
        "import seaborn as sns\n",
        "import matplotlib.pyplot as plt\n",
        "\n",
        "# Simple confusion matrix\n",
        "pred = model.predict(X_test)\n",
        "pred = np.argmax(pred, axis=1)\n",
        "\n",
        "\n",
        "conf_matrix = metrics.confusion_matrix(y_test, pred)\n",
        "print(conf_matrix)\n",
        "\n",
        "# Graphical confusion matrix\n",
        "conf_matrix = metrics.confusion_matrix(y_test, pred)\n",
        "\n",
        "plt.figure(figsize=(10, 6))\n",
        "sns.heatmap(conf_matrix, annot=True, fmt='d', cmap='Greens', xticklabels=label_names, yticklabels=label_names)\n",
        "plt.xlabel('Predicted')\n",
        "plt.ylabel('Actual')\n",
        "plt.title('Confusion Matrix')\n",
        "plt.show()"
      ]
    },
    {
      "cell_type": "markdown",
      "metadata": {},
      "source": [
        "## PCE and MPCE\n",
        "\n",
        "\n",
        "- **Per-Class Error (PCE)** $\\large = \\text{1 - \\ Class Accuracy }$\n",
        "\n",
        "- **Mean Per-Class Error (MPCE)** $\\large = \\frac{1}{k} \\sum \\text{PCE}$"
      ]
    },
    {
      "cell_type": "code",
      "execution_count": 20,
      "metadata": {},
      "outputs": [
        {
          "name": "stdout",
          "output_type": "stream",
          "text": [
            "Mean per-class error (MCPE): 0.04125\n",
            "\n",
            "'aggressive'\n",
            "Per-class Error (PCE): 0.05340\n",
            "Per-class Accuracy (PCA): 0.94660\n",
            "\n",
            "'normal'\n",
            "Per-class Error (PCE): 0.05906\n",
            "Per-class Accuracy (PCA): 0.94094\n",
            "\n",
            "'slow'\n",
            "Per-class Error (PCE): 0.01130\n",
            "Per-class Accuracy (PCA): 0.98870\n",
            "\n"
          ]
        },
        {
          "data": {
            "image/png": "[encoded data removed]",
            "text/plain": [
              "<Figure size 1000x600 with 1 Axes>"
            ]
          },
          "metadata": {},
          "output_type": "display_data"
        }
      ],
      "source": [
        "import numpy as np\n",
        "from sklearn.metrics import confusion_matrix\n",
        "import matplotlib.pyplot as plt\n",
        "\n",
        "conf_matrix = confusion_matrix(y_test, pred)\n",
        "\n",
        "# Calculate per-class accuracy\n",
        "per_class_accuracy = conf_matrix.diagonal() / conf_matrix.sum(axis=1)\n",
        "\n",
        "# Convert per-class accuracy to per-class error\n",
        "per_class_error = 1 - per_class_accuracy\n",
        "\n",
        "# Mean per-class error\n",
        "mean_per_class_error = np.mean(per_class_error)\n",
        "print(f\"Mean per-class error (MCPE): {mean_per_class_error:.5f}\")\n",
        "print()\n",
        "\n",
        "# Display per-class error\n",
        "for idx, class_name in enumerate(label_names):\n",
        "    print(f\"'{class_name}'\")\n",
        "    print(f\"Per-class Error (PCE): {per_class_error[idx]:.5f}\")\n",
        "    print(f\"Per-class Accuracy (PCA): {per_class_accuracy[idx]:.5f}\")\n",
        "    print()\n",
        "    \n",
        "\n",
        "plt.figure(figsize=(10, 6))\n",
        "plt.bar(label_names, per_class_error, color='green')\n",
        "plt.xlabel('Class')\n",
        "plt.ylabel('Error Rate')\n",
        "plt.title('Per-Class Error Rate')\n",
        "plt.show()"
      ]
    },
    {
      "cell_type": "markdown",
      "metadata": {},
      "source": [
        "\n",
        "\n",
        "\n",
        "\n",
        "\n",
        "\n",
        "\n",
        "\n",
        "\n",
        "\n",
        "\n",
        "\n",
        "\n",
        "\n",
        "\n",
        "\n",
        "\n",
        "\n",
        "\n",
        "\n",
        "\n",
        "\n",
        "## Performance Metrics"
      ]
    },
    {
      "cell_type": "markdown",
      "metadata": {},
      "source": [
        "- Accuracy  $\\large = \\frac{Correct~Predictions}{All~Predictions}$\n",
        "- Precision for a given class  $\\large = \\frac{Correct~Predictions~for~the~Class}{All~Predictions~for~the~Class}$   \n",
        "- Recall for a given class  $\\large = \\frac{Correct~Predictions~for~the~Class}{All~Instances~of~the~Class}$  \n",
        "- F1 Score $\\large = \\frac{2 \\times \\text{Precision} \\times \\text{Recall}}{\\text{Precision} + \\text{Recall}}$  \n",
        "- Hamming Loss $\\large = \\frac{1}{N} \\sum_{i=1}^{N} \\frac{\\text{Incorrect Labels}}{\\text{Total Labels}}$  \n",
        "- Jaccard Score $\\large = \\frac{|Y_{pred} \\cap Y_{true}|}{|Y_{pred} \\cup Y_{true}|}$  \n",
        "\n",
        "\n",
        "\n",
        "- Averaging is a way to get a single number for multiclass. Depending on the importance one wants to give to minority classes: \n",
        "    - Macro average: Compute the metric for each class, and returns the average without considering the proportion for each class in the dataset. For instance:\n",
        "\n",
        "        Precision = $\\large = \\frac{P_{class 1} ~+~ P_{class 2} ~+~ ... ~+~ P_{class n}}{N}$   \n",
        "    \n",
        "    - Weighted average: Compute the metric for each class, and returns the average considering the proportion (weighted) for each class in the dataset. For instance:\n",
        "\n",
        "        Precision = $\\large = \\frac{N_1 ~*~ P_{class 1} ~+~ N_2 ~*~ P_{class 2} ~+~ ... ~+~ N_n ~*~ P_{class n}}{N}$"
      ]
    },
    {
      "cell_type": "code",
      "execution_count": 21,
      "metadata": {},
      "outputs": [
        {
          "name": "stdout",
          "output_type": "stream",
          "text": [
            "Accuracy : 96.31%\n",
            "\n",
            "Precision - Macro: 96.84%\n",
            "Recall - Macro: 95.87%\n",
            "F1-score - Macro: 96.31%\n",
            "\n",
            "Precision - Weighted: 96.41%\n",
            "Recall - Weighted: 96.31%\n",
            "F1-score - Weighted: 96.31%\n"
          ]
        }
      ],
      "source": [
        "from sklearn.metrics import accuracy_score, precision_score, recall_score, f1_score\n",
        "\n",
        "# Calculates performance metrics\n",
        "acc = accuracy_score(y_true =  y_test, y_pred = pred)\n",
        "print(f'Accuracy : {np.round(acc*100,2)}%')\n",
        "\n",
        "print()\n",
        "          \n",
        "precision = precision_score(y_true =  y_test, y_pred = pred, average='macro')\n",
        "print(f'Precision - Macro: {np.round(precision*100,2)}%')\n",
        "\n",
        "recall = recall_score(y_true =  y_test, y_pred = pred, average='macro')\n",
        "print(f'Recall - Macro: {np.round(recall*100,2)}%')\n",
        "\n",
        "f1 = f1_score(y_true =  y_test, y_pred = pred, average='macro')\n",
        "print(f'F1-score - Macro: {np.round(f1*100,2)}%')\n",
        "\n",
        "print()\n",
        "\n",
        "precision = precision_score(y_true =  y_test, y_pred = pred, average='weighted')\n",
        "print(f'Precision - Weighted: {np.round(precision*100,2)}%')\n",
        "\n",
        "recall = recall_score(y_true =  y_test, y_pred = pred, average='weighted')\n",
        "print(f'Recall - Weighted: {np.round(recall*100,2)}%')\n",
        "\n",
        "f1 = f1_score(y_true =  y_test, y_pred = pred, average='weighted')\n",
        "print(f'F1-score - Weighted: {np.round(f1*100,2)}%')"
      ]
    },
    {
      "cell_type": "markdown",
      "metadata": {},
      "source": [
        "## Classification report\n",
        "\n",
        "Detailed summary of the classification model's performance across different classes."
      ]
    },
    {
      "cell_type": "code",
      "execution_count": 22,
      "metadata": {},
      "outputs": [
        {
          "name": "stdout",
          "output_type": "stream",
          "text": [
            "              precision    recall  f1-score   support\n",
            "\n",
            "  aggressive       0.98      0.95      0.97       206\n",
            "      normal       0.98      0.94      0.96       254\n",
            "        slow       0.94      0.99      0.96       354\n",
            "\n",
            "    accuracy                           0.96       814\n",
            "   macro avg       0.97      0.96      0.96       814\n",
            "weighted avg       0.96      0.96      0.96       814\n",
            "\n"
          ]
        }
      ],
      "source": [
        "from sklearn.metrics import classification_report\n",
        "\n",
        "print(classification_report(y_test, pred, target_names=label_names))"
      ]
    }
  ],
  "metadata": {
    "accelerator": "GPU",
    "colab": {
      "gpuType": "T4",
      "provenance": []
    },
    "kernelspec": {
      "display_name": "Python 3",
      "name": "python3"
    },
    "language_info": {
      "codemirror_mode": {
        "name": "ipython",
        "version": 3
      },
      "file_extension": ".py",
      "mimetype": "text/x-python",
      "name": "python",
      "nbconvert_exporter": "python",
      "pygments_lexer": "ipython3",
      "version": "3.11.4"
    }
  },
  "nbformat": 4,
  "nbformat_minor": 0
}
