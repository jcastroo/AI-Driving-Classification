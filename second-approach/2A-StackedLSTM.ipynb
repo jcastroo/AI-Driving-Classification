{
  "cells": [
    {
      "cell_type": "markdown",
      "metadata": {},
      "source": [
        "![Instituto Politécnico de Leiria](https://www.ipleiria.pt/wp-content/webpc-passthru.php?src=https://www.ipleiria.pt/wp-content/uploads/2021/10/estg_h-01.png&nocache=1)\n",
        "\n",
        "<center>\n",
        "\n",
        "# AI Driving Classification  <span style=\"font-size: 14px;\">2023/2024</span>\n",
        "\n",
        "<div align=\"center\" style=\"font-weight: bold\">Team Members:</div>\n",
        "\n",
        "<div align=\"center\">Alberto Manuel de Matos Pingo - 2202145</div>\n",
        "\n",
        "<div align=\"center\">João Pedro Quintela de Castro - 2201781</div>\n",
        "\n",
        "---\n",
        "\n",
        "## **Second Approach - Stacked LSTM**\n",
        "\n",
        "</center>\n",
        "\n",
        "---"
      ]
    },
    {
      "cell_type": "markdown",
      "metadata": {},
      "source": [
        "# License\n",
        "\n",
        "Copyright (c) 2024 João Castro e Alberto Pingo\n",
        "\n",
        "This notebook is part of AI Driving Classification.\n",
        "\n",
        "AI Driving Classification is free software: you can redistribute it and/or modify\n",
        "it under the terms of the GNU General Public License as published by\n",
        "the Free Software Foundation, either version 3 of the License, or\n",
        "(at your option) any later version.\n",
        "\n",
        "AI Driving Classification is distributed in the hope that it will be useful,\n",
        "but WITHOUT ANY WARRANTY; without even the implied warranty of\n",
        "MERCHANTABILITY or FITNESS FOR A PARTICULAR PURPOSE. See the\n",
        "GNU General Public License for more details.\n",
        "\n",
        "You should have received a copy of the GNU General Public License\n",
        "along with AI Driving Classification. If not, see\n",
        "<https://www.gnu.org/licenses/>.\n"
      ]
    },
    {
      "cell_type": "markdown",
      "metadata": {},
      "source": [
        "## Directories"
      ]
    },
    {
      "cell_type": "code",
      "execution_count": 1,
      "metadata": {},
      "outputs": [
        {
          "name": "stdout",
          "output_type": "stream",
          "text": [
            "Root directory: /home/pws/code/CoEProject-AI-DrivingClassification\n",
            "Datasets directory: /home/pws/code/CoEProject-AI-DrivingClassification/datasets\n",
            "Dataset directory: /home/pws/code/CoEProject-AI-DrivingClassification/datasets/IPL-Dataset\n"
          ]
        }
      ],
      "source": [
        "import os\n",
        "\n",
        "# Make auxiliar folders\n",
        "if not os.path.exists('runtime_saves'):\n",
        "    os.makedirs('runtime_saves')\n",
        "if not os.path.exists('runtime_saves/models'):\n",
        "    os.makedirs('runtime_saves/models')\n",
        "if not os.path.exists('runtime_saves/train&test'):\n",
        "    os.makedirs('runtime_saves/train&test')\n",
        "    \n",
        "current_dir = os.getcwd()\n",
        "\n",
        "root_dir = os.path.abspath(os.path.join(current_dir, os.pardir, os.pardir))\n",
        "\n",
        "datasets_dir = os.path.join(root_dir, 'datasets')\n",
        "\n",
        "dataset_dir = os.path.join(datasets_dir, 'IPL-Dataset')\n",
        "\n",
        "\n",
        "print(f'Root directory: {root_dir}')\n",
        "print(f'Datasets directory: {datasets_dir}')\n",
        "print(f'Dataset directory: {dataset_dir}')"
      ]
    },
    {
      "cell_type": "markdown",
      "metadata": {},
      "source": [
        "# **DATA PREPROCESSING**\n",
        "\n",
        "## Data Structure\n",
        "\n",
        "Accelerometer (m/s²): Acceleration along the each axis.\n",
        "- **accelerometerXAxis**\n",
        "- **accelerometerZAxis**\n",
        "- **accelerometerYAxis**\n",
        "\n",
        "Gyroscope (°/s): Angular velocity along the each axis.\n",
        "- **gyroscopeXAxis**\n",
        "- **gyroscopeYAxis**\n",
        "- **gyroscopeZAxis**\n",
        "\n",
        "GPS Coordinates (°): \n",
        "- **Latitude**\n",
        "- **Longitude**"
      ]
    },
    {
      "cell_type": "markdown",
      "metadata": {},
      "source": [
        "## Load dataset and apply rolling window"
      ]
    },
    {
      "cell_type": "code",
      "execution_count": 2,
      "metadata": {},
      "outputs": [],
      "source": [
        "import json\n",
        "import pandas as pd\n",
        "import numpy as np\n",
        "\n",
        "directories = ['Acceleration', 'Brake', 'Intersection']\n",
        "column_names = ['accelerometerXAxis', 'accelerometerYAxis', 'accelerometerZAxis', 'gyroscopeXAxis', 'gyroscopeYAxis', 'gyroscopeZAxis', 'Latitude', 'Longitude']\n",
        "label_names = ['Slow', 'Normal', 'Aggressive']\n",
        "\n",
        "df_bmw = pd.DataFrame(columns=column_names)\n",
        "labels_bmw = []\n",
        "df_honda = pd.DataFrame(columns=column_names)\n",
        "labels_honda = []\n",
        "\n",
        "data_bmw_list = []\n",
        "data_honda_list = []\n",
        "\n",
        "for directory in directories:\n",
        "    for root, dirs, files in os.walk(os.path.join(dataset_dir, directory)):\n",
        "        if 'turn 90 degree constant speed' in root: # Skip this directory\n",
        "            continue\n",
        "        for file in files:\n",
        "            if file.endswith('.json'):\n",
        "                f_car = os.path.basename(root).split()[0].upper()            \n",
        "                f_label = os.path.basename(os.path.dirname(root))\n",
        "                \n",
        "                f_data = json.load(open(os.path.join(root, file)))\n",
        "                f_data = f_data['capturedData']\n",
        "                f_data = pd.DataFrame(f_data)\n",
        "                \n",
        "                f_data = f_data[column_names]\n",
        "                \n",
        "                # Add Label to each row\n",
        "                f_labels = np.full((f_data.shape[0]), f_label)\n",
        "                                \n",
        "                if f_car == 'BMW':                                      \n",
        "                    data_bmw_list.append(f_data.copy())\n",
        "                    labels_bmw.extend(f_labels)                    \n",
        "                elif f_car == 'HONDA':\n",
        "                    data_honda_list.append(f_data.copy())\n",
        "                    labels_honda.extend(f_labels)                    \n",
        "\n",
        "label_names = np.unique(labels_bmw)\n",
        "\n",
        "# Raw Data\n",
        "df_bmw = pd.concat(data_bmw_list, axis=0)\n",
        "df_honda = pd.concat(data_honda_list, axis=0)\n",
        "# Save Data to CSV - runtime_saves folder\n",
        "df_bmw.to_csv('runtime_saves/00BMW_raw.csv', index=False)\n",
        "df_honda.to_csv('runtime_saves/00HONDA_raw.csv', index=False)\n",
        "\n",
        "# Labels\n",
        "labels_bmw = np.array(labels_bmw)\n",
        "labels_honda = np.array(labels_honda)\n",
        "labels = np.concatenate((labels_bmw, labels_honda))\n",
        "# Save Labels to CSV - runtime_saves folder\n",
        "np.savetxt('runtime_saves/BMW_labels.csv', labels_bmw, delimiter=',', fmt='%s')\n",
        "np.savetxt('runtime_saves/HONDA_labels.csv', labels_honda, delimiter=',', fmt='%s')"
      ]
    },
    {
      "cell_type": "markdown",
      "metadata": {},
      "source": [
        "## Rolling Window\n",
        "\n",
        "This processes **reduces the sensor data noise** by applying a centered rolling mean with a window of 3 to each column of the DataFrame. \\\n",
        "For each value, the function computes the mean of the current value, the one before, and the one after.\n",
        "\n",
        "    Applied to each scenario individually."
      ]
    },
    {
      "cell_type": "code",
      "execution_count": 3,
      "metadata": {},
      "outputs": [],
      "source": [
        "def apply_rolling_window(df):\n",
        "    df = df.rolling(window=3, center=True, min_periods=1).mean()   \n",
        "     \n",
        "    return df\n",
        "\n",
        "columns_to_process = ['accelerometerXAxis', 'accelerometerYAxis', 'accelerometerZAxis', 'gyroscopeXAxis', 'gyroscopeYAxis', 'gyroscopeZAxis']\n",
        "\n",
        "for i in range(len(data_bmw_list)):\n",
        "    data_bmw_list[i][columns_to_process] = apply_rolling_window(data_bmw_list[i][columns_to_process].copy())\n",
        "for i in range(len(data_honda_list)):\n",
        "    data_honda_list[i][columns_to_process] = apply_rolling_window(data_honda_list[i][columns_to_process].copy())\n",
        "\n",
        "data_bmw = pd.concat(data_bmw_list, axis=0)\n",
        "data_honda = pd.concat(data_honda_list, axis=0)\n",
        "\n",
        "# Save Data to CSV - runtime_saves folder\n",
        "data_bmw.to_csv('runtime_saves/01BMW_rollingwindow.csv', index=False)\n",
        "data_honda.to_csv('runtime_saves/01HONDA_rollingwindow.csv', index=False)"
      ]
    },
    {
      "cell_type": "code",
      "execution_count": 4,
      "metadata": {
        "id": "B5wPPy3OiYj9"
      },
      "outputs": [],
      "source": [
        "# import numpy as np\n",
        "# import pandas as pd\n",
        "\n",
        "# # Load the dataset into a DataFrame\n",
        "# df_bmw = pd.read_csv('runtime_saves/bmw_data.csv')\n",
        "# df_honda = pd.read_csv('runtime_saves/honda_data.csv')\n",
        "\n",
        "# # Load the labels into a NumPy array\n",
        "# labels_bmw = np.loadtxt('runtime_saves/bmw_labels.csv', delimiter=',', dtype=str)\n",
        "# labels_honda = np.loadtxt('runtime_saves/honda_labels.csv', delimiter=',', dtype=str)"
      ]
    },
    {
      "cell_type": "markdown",
      "metadata": {},
      "source": [
        "## Statistics - Label Distribution"
      ]
    },
    {
      "cell_type": "code",
      "execution_count": 5,
      "metadata": {},
      "outputs": [
        {
          "data": {
            "image/png": "[encoded data removed]",
            "text/plain": [
              "<Figure size 1200x600 with 1 Axes>"
            ]
          },
          "metadata": {},
          "output_type": "display_data"
        }
      ],
      "source": [
        "import matplotlib.pyplot as plt\n",
        "import seaborn as sns\n",
        "\n",
        "labels = pd.Series(labels)\n",
        "\n",
        "# plot the count of each label\n",
        "plt.figure(figsize=(12, 6))\n",
        "sns.countplot(x=labels, color='lightgreen')\n",
        "plt.title('Distribution of Labels')\n",
        "plt.xlabel('Label')\n",
        "plt.ylabel('Count')\n",
        "plt.show()"
      ]
    },
    {
      "cell_type": "markdown",
      "metadata": {},
      "source": [
        "# Label Encoding\n",
        "\n",
        "This process encodes each unique Categorical label as a distinct integer."
      ]
    },
    {
      "cell_type": "code",
      "execution_count": 6,
      "metadata": {},
      "outputs": [],
      "source": [
        "from sklearn.preprocessing import LabelEncoder\n",
        "\n",
        "label_encoder = LabelEncoder()\n",
        "\n",
        "labels = label_encoder.fit_transform(labels)"
      ]
    },
    {
      "cell_type": "markdown",
      "metadata": {},
      "source": [
        "# Normalize Data\n",
        "\n",
        "This process **helps the model performance** by rescaling specified columns of the dataset to a range between 0 and 1, based on the minimum and maximum values of that column.\n",
        "    \n",
        "    Applied to each car individually."
      ]
    },
    {
      "cell_type": "code",
      "execution_count": 7,
      "metadata": {},
      "outputs": [],
      "source": [
        "def normalize_between_0_and_1(data, columns):\n",
        "    for column in columns:\n",
        "        if column not in data.columns:\n",
        "            print(f\"[WARNING] {column} not found in DataFrame.\")\n",
        "            continue\n",
        "        else:\n",
        "            max_value = np.max(data[column])\n",
        "            min_value = np.min(data[column])\n",
        "            data[column] = (data[column] - min_value) / (max_value - min_value)\n",
        "    return data\n",
        "\n",
        "columns_to_normalize = ['accelerometerXAxis', 'accelerometerYAxis', 'accelerometerZAxis', 'gyroscopeXAxis', 'gyroscopeYAxis', 'gyroscopeZAxis']\n",
        "\n",
        "\n",
        "df_bmw = normalize_between_0_and_1(df_bmw, columns_to_normalize)\n",
        "df_honda = normalize_between_0_and_1(df_honda, columns_to_normalize)"
      ]
    },
    {
      "cell_type": "markdown",
      "metadata": {},
      "source": [
        "## Concatenate Data\n",
        "\n",
        "This process concatenates all cars into a single DataFrame after applyting the rolling window and normalization."
      ]
    },
    {
      "cell_type": "code",
      "execution_count": 8,
      "metadata": {},
      "outputs": [],
      "source": [
        "df = pd.concat([df_bmw, df_honda], axis=0)\n",
        "\n",
        "# create label column in the dataframe\n",
        "df['label'] = labels"
      ]
    },
    {
      "cell_type": "markdown",
      "metadata": {},
      "source": [
        "## Create Sequences\n",
        "\n",
        "This process involves segmenting time-series data into overlapping sequences and associating each sequence with a label based on the most frequent label within that window.## Create Sequences"
      ]
    },
    {
      "cell_type": "code",
      "execution_count": 9,
      "metadata": {},
      "outputs": [],
      "source": [
        "import numpy as np\n",
        "from scipy.stats import mode\n",
        "\n",
        "def create_sequences(data, labels, window_size=16, step_size=2):\n",
        "    X, y = [], []\n",
        "    for i in range(0, len(data) - window_size + 1, step_size):\n",
        "        # Create the window of data\n",
        "        X.append(data[i:i + window_size].values)        \n",
        "        \n",
        "         # Find the most frequent string label in the current window\n",
        "        window_labels = labels[i:i + window_size]\n",
        "        most_frequent_label = mode(window_labels, axis=None)[0]\n",
        "        \n",
        "        # Add the most frequent label as the label of the current window\n",
        "        y.append(most_frequent_label)\n",
        "            \n",
        "    return np.array(X), np.array(y)\n",
        "\n",
        "time_steps = 16\n",
        "step_size = 1\n",
        "\n",
        "X, y = create_sequences(\n",
        "    df[['accelerometerXAxis', 'accelerometerYAxis', 'accelerometerZAxis',\n",
        "        'gyroscopeXAxis', 'gyroscopeYAxis', 'gyroscopeZAxis', \n",
        "        'Latitude', 'Longitude']],\n",
        "    df['label'],\n",
        "    window_size=time_steps,\n",
        "    step_size=step_size    \n",
        ")\n",
        "\n",
        "# Save Features and Labels\n",
        "np.save('runtime_saves/X.npy', X)\n",
        "np.savetxt('runtime_saves/y.csv', y, delimiter=',', fmt='%d')"
      ]
    },
    {
      "cell_type": "markdown",
      "metadata": {},
      "source": [
        "# Split Dataset for Model Training\n",
        "\n",
        "This section splits the dataset into training, test, and validation sets\n",
        "\n",
        "- 70% Training\n",
        "- 20% Test\n",
        "- 10% Validation\n",
        "\n",
        "Stratify ensures each set maintains the original class distribution, while shuffle randomizes data to avoid any biases."
      ]
    },
    {
      "cell_type": "code",
      "execution_count": 10,
      "metadata": {},
      "outputs": [
        {
          "name": "stdout",
          "output_type": "stream",
          "text": [
            "Train Info: (2927, 16, 8), (2927,)\n",
            "Test Info: (814, 16, 8), (814,)\n",
            "Validation Info: (326, 16, 8), (326,)\n"
          ]
        }
      ],
      "source": [
        "from sklearn.model_selection import train_test_split\n",
        "\n",
        "X_train, X_test, y_train, y_test = train_test_split(X, y, test_size=0.2, shuffle=True, stratify=y, random_state=23)\n",
        "\n",
        "X_train, X_validation, y_train, y_validation = train_test_split(X_train, y_train, test_size=0.1, shuffle=True, stratify=y_train, random_state=23)\n",
        "\n",
        "\n",
        "print(f'Train Info: {X_train.shape}, {y_train.shape}')\n",
        "print(f'Test Info: {X_test.shape}, {y_test.shape}')\n",
        "print(f'Validation Info: {X_validation.shape}, {y_validation.shape}')"
      ]
    },
    {
      "cell_type": "markdown",
      "metadata": {},
      "source": [
        "# **MODEL ARCHITECTURE** - LSTM\n",
        "\n",
        "**Architecture:**\n",
        "\n",
        "Input -> LSTM - BN -> LSTM - BN -> LSTM - BN -> Dense - Output\n",
        "\n",
        "1. **Input Layer**\n",
        "   - The input layer expects sequences with shape `(timesteps, features)`, where `timesteps` is the number of time steps and `features` is the number of features at each time step.\n",
        "   - No specific preprocessing is applied to the input sequences beyond normalization.\n",
        "\n",
        "2. **LSTM Layers**\n",
        "   - The model consists of three LSTM layers, each with 64 units.\n",
        "   - The first two LSTM layers use `return_sequences=True` to ensure that the output at each time step is returned. This is necessary for stacking multiple LSTM layers, allowing the subsequent LSTM layers to process the full sequence.\n",
        "   - The third LSTM layer outputs the final hidden state for each sequence.\n",
        "\n",
        "3. **Batch Normalization**\n",
        "   - Batch normalization is applied after each LSTM layer to normalize the activations. This helps in stabilizing and accelerating the training process by maintaining a consistent distribution of activations.\n",
        "\n",
        "4. **Fully Connected (Dense) Layer**\n",
        "   - A dense layer with 3 units and a softmax activation function is used as the output layer.\n",
        "   - The softmax function provides a probability distribution over the 3 classes, which is used for classification.\n",
        "\n",
        "**Overfitting Measures**\n",
        "   - Dropout layers are not included in this architecture but are often used in practice to mitigate overfitting. For this model, the focus is on using LSTM layers and batch normalization to handle overfitting and ensure robust training.\n",
        "\n",
        "**Batch Normalization**\n",
        "   - Batch normalization is used after each LSTM layer to stabilize the learning process and accelerate convergence by normalizing the activations of each layer."
      ]
    },
    {
      "cell_type": "code",
      "execution_count": 11,
      "metadata": {},
      "outputs": [
        {
          "name": "stderr",
          "output_type": "stream",
          "text": [
            "2024-09-06 04:45:14.968307: E external/local_xla/xla/stream_executor/cuda/cuda_dnn.cc:9261] Unable to register cuDNN factory: Attempting to register factory for plugin cuDNN when one has already been registered\n",
            "2024-09-06 04:45:14.968354: E external/local_xla/xla/stream_executor/cuda/cuda_fft.cc:607] Unable to register cuFFT factory: Attempting to register factory for plugin cuFFT when one has already been registered\n",
            "2024-09-06 04:45:14.969457: E external/local_xla/xla/stream_executor/cuda/cuda_blas.cc:1515] Unable to register cuBLAS factory: Attempting to register factory for plugin cuBLAS when one has already been registered\n",
            "2024-09-06 04:45:14.976511: I tensorflow/core/platform/cpu_feature_guard.cc:182] This TensorFlow binary is optimized to use available CPU instructions in performance-critical operations.\n",
            "To enable the following instructions: AVX2 FMA, in other operations, rebuild TensorFlow with the appropriate compiler flags.\n",
            "2024-09-06 04:45:15.914781: W tensorflow/compiler/tf2tensorrt/utils/py_utils.cc:38] TF-TRT Warning: Could not find TensorRT\n",
            "2024-09-06 04:45:16.558368: I external/local_xla/xla/stream_executor/cuda/cuda_executor.cc:901] successful NUMA node read from SysFS had negative value (-1), but there must be at least one NUMA node, so returning NUMA node zero. See more at https://github.com/torvalds/linux/blob/v6.0/Documentation/ABI/testing/sysfs-bus-pci#L344-L355\n",
            "2024-09-06 04:45:16.595538: I external/local_xla/xla/stream_executor/cuda/cuda_executor.cc:901] successful NUMA node read from SysFS had negative value (-1), but there must be at least one NUMA node, so returning NUMA node zero. See more at https://github.com/torvalds/linux/blob/v6.0/Documentation/ABI/testing/sysfs-bus-pci#L344-L355\n",
            "2024-09-06 04:45:16.595770: I external/local_xla/xla/stream_executor/cuda/cuda_executor.cc:901] successful NUMA node read from SysFS had negative value (-1), but there must be at least one NUMA node, so returning NUMA node zero. See more at https://github.com/torvalds/linux/blob/v6.0/Documentation/ABI/testing/sysfs-bus-pci#L344-L355\n",
            "2024-09-06 04:45:16.596599: I external/local_xla/xla/stream_executor/cuda/cuda_executor.cc:901] successful NUMA node read from SysFS had negative value (-1), but there must be at least one NUMA node, so returning NUMA node zero. See more at https://github.com/torvalds/linux/blob/v6.0/Documentation/ABI/testing/sysfs-bus-pci#L344-L355\n",
            "2024-09-06 04:45:16.596825: I external/local_xla/xla/stream_executor/cuda/cuda_executor.cc:901] successful NUMA node read from SysFS had negative value (-1), but there must be at least one NUMA node, so returning NUMA node zero. See more at https://github.com/torvalds/linux/blob/v6.0/Documentation/ABI/testing/sysfs-bus-pci#L344-L355\n",
            "2024-09-06 04:45:16.597025: I external/local_xla/xla/stream_executor/cuda/cuda_executor.cc:901] successful NUMA node read from SysFS had negative value (-1), but there must be at least one NUMA node, so returning NUMA node zero. See more at https://github.com/torvalds/linux/blob/v6.0/Documentation/ABI/testing/sysfs-bus-pci#L344-L355\n",
            "2024-09-06 04:45:16.668930: I external/local_xla/xla/stream_executor/cuda/cuda_executor.cc:901] successful NUMA node read from SysFS had negative value (-1), but there must be at least one NUMA node, so returning NUMA node zero. See more at https://github.com/torvalds/linux/blob/v6.0/Documentation/ABI/testing/sysfs-bus-pci#L344-L355\n",
            "2024-09-06 04:45:16.669240: I external/local_xla/xla/stream_executor/cuda/cuda_executor.cc:901] successful NUMA node read from SysFS had negative value (-1), but there must be at least one NUMA node, so returning NUMA node zero. See more at https://github.com/torvalds/linux/blob/v6.0/Documentation/ABI/testing/sysfs-bus-pci#L344-L355\n",
            "2024-09-06 04:45:16.669508: I external/local_xla/xla/stream_executor/cuda/cuda_executor.cc:901] successful NUMA node read from SysFS had negative value (-1), but there must be at least one NUMA node, so returning NUMA node zero. See more at https://github.com/torvalds/linux/blob/v6.0/Documentation/ABI/testing/sysfs-bus-pci#L344-L355\n",
            "2024-09-06 04:45:16.669628: I tensorflow/core/common_runtime/gpu/gpu_device.cc:1929] Created device /job:localhost/replica:0/task:0/device:GPU:0 with 5044 MB memory:  -> device: 0, name: NVIDIA GeForce GTX 1060 6GB, pci bus id: 0000:01:00.0, compute capability: 6.1\n"
          ]
        }
      ],
      "source": [
        "from tensorflow import keras\n",
        "from tensorflow.keras.layers import LSTM, Dense, BatchNormalization\n",
        "\n",
        "# Inputs\n",
        "input_shape = (X_train.shape[1], X_train.shape[2])\n",
        "inputs = keras.Input(shape=input_shape)\n",
        "\n",
        "# Architecture\n",
        "x = LSTM(64, return_sequences=True)(inputs)\n",
        "x = BatchNormalization()(x)\n",
        "\n",
        "x = LSTM(64, return_sequences=True)(x)\n",
        "x = BatchNormalization()(x)\n",
        "\n",
        "x = LSTM(64)(x)\n",
        "x = BatchNormalization()(x)\n",
        "\n",
        "outputs = Dense(3, activation='softmax')(x)\n",
        "\n",
        "# Create the model\n",
        "model = keras.Model(inputs=inputs, outputs=outputs)"
      ]
    },
    {
      "cell_type": "markdown",
      "metadata": {},
      "source": [
        "## Compile Model\n",
        "\n",
        "**Loss function:** \\\n",
        "Use the *Sparse Categorical Crossentropy* loss function because it is a `multi-class classification` problem.\n",
        "\n",
        "**Optimizer: RMSprop** \\\n",
        "Exploring the *Adam* optimizer."
      ]
    },
    {
      "cell_type": "code",
      "execution_count": 12,
      "metadata": {},
      "outputs": [],
      "source": [
        "from tensorflow.keras import optimizers\n",
        "\n",
        "model.compile(optimizer='adam', loss='sparse_categorical_crossentropy', metrics=['accuracy'])"
      ]
    },
    {
      "cell_type": "code",
      "execution_count": 13,
      "metadata": {},
      "outputs": [
        {
          "name": "stdout",
          "output_type": "stream",
          "text": [
            "Model: \"model\"\n",
            "_________________________________________________________________\n",
            " Layer (type)                Output Shape              Param #   \n",
            "=================================================================\n",
            " input_1 (InputLayer)        [(None, 16, 8)]           0         \n",
            "                                                                 \n",
            " lstm (LSTM)                 (None, 16, 64)            18688     \n",
            "                                                                 \n",
            " batch_normalization (Batch  (None, 16, 64)            256       \n",
            " Normalization)                                                  \n",
            "                                                                 \n",
            " lstm_1 (LSTM)               (None, 16, 64)            33024     \n",
            "                                                                 \n",
            " batch_normalization_1 (Bat  (None, 16, 64)            256       \n",
            " chNormalization)                                                \n",
            "                                                                 \n",
            " lstm_2 (LSTM)               (None, 64)                33024     \n",
            "                                                                 \n",
            " batch_normalization_2 (Bat  (None, 64)                256       \n",
            " chNormalization)                                                \n",
            "                                                                 \n",
            " dense (Dense)               (None, 3)                 195       \n",
            "                                                                 \n",
            "=================================================================\n",
            "Total params: 85699 (334.76 KB)\n",
            "Trainable params: 85315 (333.26 KB)\n",
            "Non-trainable params: 384 (1.50 KB)\n",
            "_________________________________________________________________\n"
          ]
        }
      ],
      "source": [
        "model.summary()"
      ]
    },
    {
      "cell_type": "markdown",
      "metadata": {},
      "source": [
        "## Train Model\n",
        "Train the model with Early stopping, Model checkpoint, and Learning rate reduction callbacks."
      ]
    },
    {
      "cell_type": "code",
      "execution_count": 14,
      "metadata": {},
      "outputs": [
        {
          "name": "stdout",
          "output_type": "stream",
          "text": [
            "Epoch 1/100\n"
          ]
        },
        {
          "name": "stderr",
          "output_type": "stream",
          "text": [
            "2024-09-06 04:45:21.895832: I external/local_xla/xla/stream_executor/cuda/cuda_dnn.cc:454] Loaded cuDNN version 8904\n",
            "2024-09-06 04:45:22.342636: I external/local_xla/xla/service/service.cc:168] XLA service 0x7a9a103b6c80 initialized for platform CUDA (this does not guarantee that XLA will be used). Devices:\n",
            "2024-09-06 04:45:22.342663: I external/local_xla/xla/service/service.cc:176]   StreamExecutor device (0): NVIDIA GeForce GTX 1060 6GB, Compute Capability 6.1\n",
            "2024-09-06 04:45:22.347488: I tensorflow/compiler/mlir/tensorflow/utils/dump_mlir_util.cc:269] disabling MLIR crash reproducer, set env var `MLIR_CRASH_REPRODUCER_DIRECTORY` to enable.\n",
            "WARNING: All log messages before absl::InitializeLog() is called are written to STDERR\n",
            "I0000 00:00:1725594322.418483    8965 device_compiler.h:186] Compiled cluster using XLA!  This line is logged at most once for the lifetime of the process.\n"
          ]
        },
        {
          "name": "stdout",
          "output_type": "stream",
          "text": [
            "183/183 [==============================] - 8s 14ms/step - loss: 1.0685 - accuracy: 0.4728 - val_loss: 1.0752 - val_accuracy: 0.4356 - lr: 0.0010\n",
            "Epoch 2/100\n",
            " 15/183 [=>............................] - ETA: 1s - loss: 0.9911 - accuracy: 0.5417"
          ]
        },
        {
          "name": "stderr",
          "output_type": "stream",
          "text": [
            "/home/pws/miniconda3/envs/tensorflow/lib/python3.11/site-packages/keras/src/engine/training.py:3103: UserWarning: You are saving your model as an HDF5 file via `model.save()`. This file format is considered legacy. We recommend using instead the native Keras format, e.g. `model.save('my_model.keras')`.\n",
            "  saving_api.save_model(\n"
          ]
        },
        {
          "name": "stdout",
          "output_type": "stream",
          "text": [
            "183/183 [==============================] - 2s 8ms/step - loss: 0.9758 - accuracy: 0.5326 - val_loss: 1.0746 - val_accuracy: 0.4417 - lr: 0.0010\n",
            "Epoch 3/100\n",
            "183/183 [==============================] - 1s 8ms/step - loss: 0.8981 - accuracy: 0.5767 - val_loss: 3.9994 - val_accuracy: 0.3313 - lr: 0.0010\n",
            "Epoch 4/100\n",
            "183/183 [==============================] - 1s 8ms/step - loss: 0.8409 - accuracy: 0.6122 - val_loss: 3.7602 - val_accuracy: 0.2546 - lr: 0.0010\n",
            "Epoch 5/100\n",
            "183/183 [==============================] - 1s 8ms/step - loss: 0.7796 - accuracy: 0.6437 - val_loss: 4.9442 - val_accuracy: 0.2546 - lr: 0.0010\n",
            "Epoch 6/100\n",
            "183/183 [==============================] - 1s 8ms/step - loss: 0.7327 - accuracy: 0.6686 - val_loss: 4.4383 - val_accuracy: 0.2546 - lr: 0.0010\n",
            "Epoch 7/100\n",
            "183/183 [==============================] - 1s 8ms/step - loss: 0.7050 - accuracy: 0.6864 - val_loss: 6.6063 - val_accuracy: 0.2546 - lr: 0.0010\n",
            "Epoch 8/100\n",
            "183/183 [==============================] - 1s 8ms/step - loss: 0.6823 - accuracy: 0.6929 - val_loss: 6.1858 - val_accuracy: 0.2546 - lr: 0.0010\n",
            "Epoch 9/100\n",
            "183/183 [==============================] - ETA: 0s - loss: 0.6522 - accuracy: 0.7062\n",
            "Epoch 9: ReduceLROnPlateau reducing learning rate to 0.0005000000237487257.\n",
            "183/183 [==============================] - 1s 8ms/step - loss: 0.6522 - accuracy: 0.7062 - val_loss: 4.9057 - val_accuracy: 0.2546 - lr: 0.0010\n",
            "Epoch 10/100\n",
            "183/183 [==============================] - 1s 8ms/step - loss: 0.6175 - accuracy: 0.7280 - val_loss: 4.2485 - val_accuracy: 0.3282 - lr: 5.0000e-04\n",
            "Epoch 11/100\n",
            "183/183 [==============================] - 1s 8ms/step - loss: 0.5824 - accuracy: 0.7537 - val_loss: 2.0981 - val_accuracy: 0.3926 - lr: 5.0000e-04\n",
            "Epoch 12/100\n",
            "183/183 [==============================] - 2s 8ms/step - loss: 0.5594 - accuracy: 0.7622 - val_loss: 5.8593 - val_accuracy: 0.3896 - lr: 5.0000e-04\n",
            "Epoch 13/100\n",
            "183/183 [==============================] - 1s 8ms/step - loss: 0.5407 - accuracy: 0.7728 - val_loss: 2.3458 - val_accuracy: 0.2546 - lr: 5.0000e-04\n",
            "Epoch 14/100\n",
            "183/183 [==============================] - 1s 8ms/step - loss: 0.5251 - accuracy: 0.7790 - val_loss: 4.8716 - val_accuracy: 0.4785 - lr: 5.0000e-04\n",
            "Epoch 15/100\n",
            "183/183 [==============================] - 1s 8ms/step - loss: 0.5070 - accuracy: 0.7851 - val_loss: 4.1641 - val_accuracy: 0.2546 - lr: 5.0000e-04\n",
            "Epoch 16/100\n",
            "183/183 [==============================] - 1s 8ms/step - loss: 0.4997 - accuracy: 0.7957 - val_loss: 2.5374 - val_accuracy: 0.4080 - lr: 5.0000e-04\n",
            "Epoch 17/100\n",
            "183/183 [==============================] - 1s 8ms/step - loss: 0.4830 - accuracy: 0.7954 - val_loss: 6.7080 - val_accuracy: 0.2515 - lr: 5.0000e-04\n",
            "Epoch 18/100\n",
            "183/183 [==============================] - 2s 9ms/step - loss: 0.4661 - accuracy: 0.8087 - val_loss: 4.5530 - val_accuracy: 0.4417 - lr: 5.0000e-04\n",
            "Epoch 19/100\n",
            "183/183 [==============================] - 1s 8ms/step - loss: 0.4374 - accuracy: 0.8179 - val_loss: 3.4579 - val_accuracy: 0.3405 - lr: 5.0000e-04\n",
            "Epoch 20/100\n",
            "183/183 [==============================] - 2s 8ms/step - loss: 0.4397 - accuracy: 0.8230 - val_loss: 1.2803 - val_accuracy: 0.5613 - lr: 5.0000e-04\n",
            "Epoch 21/100\n",
            "183/183 [==============================] - 2s 8ms/step - loss: 0.4074 - accuracy: 0.8299 - val_loss: 6.4271 - val_accuracy: 0.3098 - lr: 5.0000e-04\n",
            "Epoch 22/100\n",
            "183/183 [==============================] - 1s 8ms/step - loss: 0.4109 - accuracy: 0.8323 - val_loss: 6.8451 - val_accuracy: 0.2546 - lr: 5.0000e-04\n",
            "Epoch 23/100\n",
            "183/183 [==============================] - 2s 8ms/step - loss: 0.3832 - accuracy: 0.8476 - val_loss: 3.0804 - val_accuracy: 0.2975 - lr: 5.0000e-04\n",
            "Epoch 24/100\n",
            "183/183 [==============================] - 1s 8ms/step - loss: 0.3716 - accuracy: 0.8394 - val_loss: 3.8424 - val_accuracy: 0.4294 - lr: 5.0000e-04\n",
            "Epoch 25/100\n",
            "183/183 [==============================] - 1s 8ms/step - loss: 0.3328 - accuracy: 0.8654 - val_loss: 2.5327 - val_accuracy: 0.4172 - lr: 5.0000e-04\n",
            "Epoch 26/100\n",
            "183/183 [==============================] - 1s 8ms/step - loss: 0.3368 - accuracy: 0.8671 - val_loss: 3.6694 - val_accuracy: 0.4172 - lr: 5.0000e-04\n",
            "Epoch 27/100\n",
            "183/183 [==============================] - ETA: 0s - loss: 0.3250 - accuracy: 0.8661\n",
            "Epoch 27: ReduceLROnPlateau reducing learning rate to 0.0002500000118743628.\n",
            "183/183 [==============================] - 1s 8ms/step - loss: 0.3250 - accuracy: 0.8661 - val_loss: 7.2286 - val_accuracy: 0.2546 - lr: 5.0000e-04\n",
            "Epoch 28/100\n",
            "183/183 [==============================] - 1s 8ms/step - loss: 0.2837 - accuracy: 0.8896 - val_loss: 1.7498 - val_accuracy: 0.5890 - lr: 2.5000e-04\n",
            "Epoch 29/100\n",
            "183/183 [==============================] - 1s 8ms/step - loss: 0.2661 - accuracy: 0.8879 - val_loss: 2.0481 - val_accuracy: 0.3834 - lr: 2.5000e-04\n",
            "Epoch 30/100\n",
            "183/183 [==============================] - 1s 8ms/step - loss: 0.2696 - accuracy: 0.8972 - val_loss: 1.4700 - val_accuracy: 0.5798 - lr: 2.5000e-04\n",
            "Epoch 31/100\n",
            "183/183 [==============================] - 1s 8ms/step - loss: 0.2508 - accuracy: 0.9026 - val_loss: 2.5949 - val_accuracy: 0.4509 - lr: 2.5000e-04\n",
            "Epoch 32/100\n",
            "183/183 [==============================] - 1s 8ms/step - loss: 0.2397 - accuracy: 0.9047 - val_loss: 1.6077 - val_accuracy: 0.5552 - lr: 2.5000e-04\n",
            "Epoch 33/100\n",
            "183/183 [==============================] - 1s 8ms/step - loss: 0.2390 - accuracy: 0.9067 - val_loss: 3.7270 - val_accuracy: 0.3221 - lr: 2.5000e-04\n",
            "Epoch 34/100\n",
            "183/183 [==============================] - 1s 8ms/step - loss: 0.2274 - accuracy: 0.9095 - val_loss: 0.9922 - val_accuracy: 0.5890 - lr: 2.5000e-04\n",
            "Epoch 35/100\n",
            "183/183 [==============================] - ETA: 0s - loss: 0.2359 - accuracy: 0.9047\n",
            "Epoch 35: ReduceLROnPlateau reducing learning rate to 0.0001250000059371814.\n",
            "183/183 [==============================] - 1s 8ms/step - loss: 0.2359 - accuracy: 0.9047 - val_loss: 2.4665 - val_accuracy: 0.3466 - lr: 2.5000e-04\n",
            "Epoch 36/100\n",
            "183/183 [==============================] - 1s 8ms/step - loss: 0.1968 - accuracy: 0.9286 - val_loss: 1.1099 - val_accuracy: 0.6779 - lr: 1.2500e-04\n",
            "Epoch 37/100\n",
            "183/183 [==============================] - 1s 7ms/step - loss: 0.1930 - accuracy: 0.9255 - val_loss: 2.1511 - val_accuracy: 0.5706 - lr: 1.2500e-04\n",
            "Epoch 38/100\n",
            "183/183 [==============================] - 1s 8ms/step - loss: 0.1879 - accuracy: 0.9337 - val_loss: 1.4651 - val_accuracy: 0.5460 - lr: 1.2500e-04\n",
            "Epoch 39/100\n",
            "183/183 [==============================] - 1s 8ms/step - loss: 0.1944 - accuracy: 0.9289 - val_loss: 1.4286 - val_accuracy: 0.6350 - lr: 1.2500e-04\n",
            "Epoch 40/100\n",
            "183/183 [==============================] - 1s 8ms/step - loss: 0.1832 - accuracy: 0.9320 - val_loss: 1.9130 - val_accuracy: 0.6074 - lr: 1.2500e-04\n",
            "Epoch 41/100\n",
            "183/183 [==============================] - 1s 8ms/step - loss: 0.1990 - accuracy: 0.9248 - val_loss: 1.4636 - val_accuracy: 0.5982 - lr: 1.2500e-04\n",
            "Epoch 42/100\n",
            "183/183 [==============================] - 1s 7ms/step - loss: 0.1630 - accuracy: 0.9385 - val_loss: 2.5007 - val_accuracy: 0.4294 - lr: 1.2500e-04\n",
            "Epoch 43/100\n",
            "181/183 [============================>.] - ETA: 0s - loss: 0.1781 - accuracy: 0.9337\n",
            "Epoch 43: ReduceLROnPlateau reducing learning rate to 6.25000029685907e-05.\n",
            "183/183 [==============================] - 1s 8ms/step - loss: 0.1788 - accuracy: 0.9330 - val_loss: 4.3219 - val_accuracy: 0.3865 - lr: 1.2500e-04\n",
            "Epoch 44/100\n",
            "183/183 [==============================] - 1s 8ms/step - loss: 0.1661 - accuracy: 0.9412 - val_loss: 1.6028 - val_accuracy: 0.5552 - lr: 6.2500e-05\n",
            "Epoch 45/100\n",
            "183/183 [==============================] - 1s 8ms/step - loss: 0.1685 - accuracy: 0.9358 - val_loss: 1.0718 - val_accuracy: 0.7055 - lr: 6.2500e-05\n",
            "Epoch 46/100\n",
            "183/183 [==============================] - 1s 8ms/step - loss: 0.1761 - accuracy: 0.9317 - val_loss: 0.5903 - val_accuracy: 0.7791 - lr: 6.2500e-05\n",
            "Epoch 47/100\n",
            "183/183 [==============================] - 1s 8ms/step - loss: 0.1569 - accuracy: 0.9402 - val_loss: 0.9091 - val_accuracy: 0.7086 - lr: 6.2500e-05\n",
            "Epoch 48/100\n",
            "183/183 [==============================] - 1s 8ms/step - loss: 0.1641 - accuracy: 0.9409 - val_loss: 0.4809 - val_accuracy: 0.8282 - lr: 6.2500e-05\n",
            "Epoch 49/100\n",
            "183/183 [==============================] - 1s 8ms/step - loss: 0.1532 - accuracy: 0.9443 - val_loss: 0.3540 - val_accuracy: 0.8650 - lr: 6.2500e-05\n",
            "Epoch 50/100\n",
            "183/183 [==============================] - 1s 8ms/step - loss: 0.1492 - accuracy: 0.9457 - val_loss: 0.6542 - val_accuracy: 0.7485 - lr: 6.2500e-05\n",
            "Epoch 51/100\n",
            "183/183 [==============================] - 1s 8ms/step - loss: 0.1513 - accuracy: 0.9467 - val_loss: 0.4166 - val_accuracy: 0.8313 - lr: 6.2500e-05\n",
            "Epoch 52/100\n",
            "183/183 [==============================] - 1s 8ms/step - loss: 0.1528 - accuracy: 0.9443 - val_loss: 1.1995 - val_accuracy: 0.6012 - lr: 6.2500e-05\n",
            "Epoch 53/100\n",
            "183/183 [==============================] - 1s 8ms/step - loss: 0.1501 - accuracy: 0.9440 - val_loss: 1.2784 - val_accuracy: 0.6810 - lr: 6.2500e-05\n",
            "Epoch 54/100\n",
            "183/183 [==============================] - 1s 8ms/step - loss: 0.1426 - accuracy: 0.9525 - val_loss: 1.7040 - val_accuracy: 0.5890 - lr: 6.2500e-05\n",
            "Epoch 55/100\n",
            "183/183 [==============================] - 1s 7ms/step - loss: 0.1376 - accuracy: 0.9508 - val_loss: 1.1367 - val_accuracy: 0.6994 - lr: 6.2500e-05\n",
            "Epoch 56/100\n",
            "178/183 [============================>.] - ETA: 0s - loss: 0.1574 - accuracy: 0.9428\n",
            "Epoch 56: ReduceLROnPlateau reducing learning rate to 3.125000148429535e-05.\n",
            "183/183 [==============================] - 1s 8ms/step - loss: 0.1574 - accuracy: 0.9423 - val_loss: 1.6717 - val_accuracy: 0.5613 - lr: 6.2500e-05\n",
            "Epoch 57/100\n",
            "183/183 [==============================] - 1s 8ms/step - loss: 0.1419 - accuracy: 0.9508 - val_loss: 1.0587 - val_accuracy: 0.7178 - lr: 3.1250e-05\n",
            "Epoch 58/100\n",
            "183/183 [==============================] - 1s 8ms/step - loss: 0.1382 - accuracy: 0.9488 - val_loss: 0.3021 - val_accuracy: 0.8834 - lr: 3.1250e-05\n",
            "Epoch 59/100\n",
            "183/183 [==============================] - 1s 8ms/step - loss: 0.1242 - accuracy: 0.9559 - val_loss: 0.5917 - val_accuracy: 0.8037 - lr: 3.1250e-05\n",
            "Epoch 60/100\n",
            "183/183 [==============================] - 1s 8ms/step - loss: 0.1437 - accuracy: 0.9491 - val_loss: 1.0769 - val_accuracy: 0.7147 - lr: 3.1250e-05\n",
            "Epoch 61/100\n",
            "183/183 [==============================] - 1s 8ms/step - loss: 0.1552 - accuracy: 0.9443 - val_loss: 0.5165 - val_accuracy: 0.8344 - lr: 3.1250e-05\n",
            "Epoch 62/100\n",
            "183/183 [==============================] - 1s 8ms/step - loss: 0.1368 - accuracy: 0.9501 - val_loss: 0.6776 - val_accuracy: 0.7883 - lr: 3.1250e-05\n",
            "Epoch 63/100\n",
            "183/183 [==============================] - 1s 8ms/step - loss: 0.1197 - accuracy: 0.9628 - val_loss: 0.3424 - val_accuracy: 0.8712 - lr: 3.1250e-05\n",
            "Epoch 64/100\n",
            "183/183 [==============================] - 1s 7ms/step - loss: 0.1293 - accuracy: 0.9501 - val_loss: 0.7068 - val_accuracy: 0.7638 - lr: 3.1250e-05\n",
            "Epoch 65/100\n",
            "178/183 [============================>.] - ETA: 0s - loss: 0.1220 - accuracy: 0.9579\n",
            "Epoch 65: ReduceLROnPlateau reducing learning rate to 1.5625000742147677e-05.\n",
            "183/183 [==============================] - 1s 8ms/step - loss: 0.1232 - accuracy: 0.9570 - val_loss: 0.9211 - val_accuracy: 0.7362 - lr: 3.1250e-05\n",
            "Epoch 66/100\n",
            "183/183 [==============================] - 1s 8ms/step - loss: 0.1335 - accuracy: 0.9522 - val_loss: 0.2264 - val_accuracy: 0.9172 - lr: 1.5625e-05\n",
            "Epoch 67/100\n",
            "183/183 [==============================] - 1s 8ms/step - loss: 0.1338 - accuracy: 0.9525 - val_loss: 0.3781 - val_accuracy: 0.8528 - lr: 1.5625e-05\n",
            "Epoch 68/100\n",
            "183/183 [==============================] - 1s 7ms/step - loss: 0.1251 - accuracy: 0.9566 - val_loss: 0.4707 - val_accuracy: 0.8558 - lr: 1.5625e-05\n",
            "Epoch 69/100\n",
            "183/183 [==============================] - 1s 8ms/step - loss: 0.1242 - accuracy: 0.9532 - val_loss: 0.2700 - val_accuracy: 0.9110 - lr: 1.5625e-05\n",
            "Epoch 70/100\n",
            "183/183 [==============================] - 1s 8ms/step - loss: 0.1295 - accuracy: 0.9515 - val_loss: 0.1678 - val_accuracy: 0.9479 - lr: 1.5625e-05\n",
            "Epoch 71/100\n",
            "183/183 [==============================] - 1s 8ms/step - loss: 0.1250 - accuracy: 0.9539 - val_loss: 0.4499 - val_accuracy: 0.8190 - lr: 1.5625e-05\n",
            "Epoch 72/100\n",
            "183/183 [==============================] - 1s 8ms/step - loss: 0.1187 - accuracy: 0.9590 - val_loss: 0.3003 - val_accuracy: 0.8988 - lr: 1.5625e-05\n",
            "Epoch 73/100\n",
            "183/183 [==============================] - 1s 8ms/step - loss: 0.1349 - accuracy: 0.9508 - val_loss: 0.3428 - val_accuracy: 0.8896 - lr: 1.5625e-05\n",
            "Epoch 74/100\n",
            "183/183 [==============================] - 1s 8ms/step - loss: 0.1137 - accuracy: 0.9611 - val_loss: 0.2423 - val_accuracy: 0.9049 - lr: 1.5625e-05\n",
            "Epoch 75/100\n",
            "183/183 [==============================] - 1s 8ms/step - loss: 0.1256 - accuracy: 0.9566 - val_loss: 0.5132 - val_accuracy: 0.8282 - lr: 1.5625e-05\n",
            "Epoch 76/100\n",
            "183/183 [==============================] - 1s 8ms/step - loss: 0.1219 - accuracy: 0.9552 - val_loss: 0.2428 - val_accuracy: 0.9080 - lr: 1.5625e-05\n",
            "Epoch 77/100\n",
            "179/183 [============================>.] - ETA: 0s - loss: 0.1272 - accuracy: 0.9546\n",
            "Epoch 77: ReduceLROnPlateau reducing learning rate to 7.812500371073838e-06.\n",
            "183/183 [==============================] - 1s 8ms/step - loss: 0.1266 - accuracy: 0.9552 - val_loss: 0.2038 - val_accuracy: 0.9264 - lr: 1.5625e-05\n",
            "Epoch 78/100\n",
            "183/183 [==============================] - 1s 8ms/step - loss: 0.1132 - accuracy: 0.9600 - val_loss: 0.2597 - val_accuracy: 0.9110 - lr: 7.8125e-06\n",
            "Epoch 79/100\n",
            "183/183 [==============================] - 1s 8ms/step - loss: 0.1155 - accuracy: 0.9611 - val_loss: 0.2406 - val_accuracy: 0.9080 - lr: 7.8125e-06\n",
            "Epoch 80/100\n",
            "183/183 [==============================] - 1s 8ms/step - loss: 0.1146 - accuracy: 0.9583 - val_loss: 0.1928 - val_accuracy: 0.9387 - lr: 7.8125e-06\n",
            "Epoch 81/100\n",
            "183/183 [==============================] - 1s 8ms/step - loss: 0.1251 - accuracy: 0.9525 - val_loss: 0.2055 - val_accuracy: 0.9294 - lr: 7.8125e-06\n",
            "Epoch 82/100\n",
            "183/183 [==============================] - 1s 8ms/step - loss: 0.1141 - accuracy: 0.9587 - val_loss: 0.1431 - val_accuracy: 0.9448 - lr: 7.8125e-06\n",
            "Epoch 83/100\n",
            "183/183 [==============================] - 1s 8ms/step - loss: 0.1304 - accuracy: 0.9525 - val_loss: 0.1639 - val_accuracy: 0.9417 - lr: 7.8125e-06\n",
            "Epoch 84/100\n",
            "181/183 [============================>.] - ETA: 0s - loss: 0.1221 - accuracy: 0.9596\n",
            "Epoch 84: ReduceLROnPlateau reducing learning rate to 3.906250185536919e-06.\n",
            "183/183 [==============================] - 1s 8ms/step - loss: 0.1220 - accuracy: 0.9597 - val_loss: 0.2752 - val_accuracy: 0.9049 - lr: 7.8125e-06\n",
            "Epoch 85/100\n",
            "183/183 [==============================] - 1s 8ms/step - loss: 0.1140 - accuracy: 0.9570 - val_loss: 0.1403 - val_accuracy: 0.9448 - lr: 3.9063e-06\n",
            "Epoch 86/100\n",
            "183/183 [==============================] - 1s 8ms/step - loss: 0.1151 - accuracy: 0.9631 - val_loss: 0.1441 - val_accuracy: 0.9417 - lr: 3.9063e-06\n",
            "Epoch 87/100\n",
            "183/183 [==============================] - 1s 8ms/step - loss: 0.1248 - accuracy: 0.9549 - val_loss: 0.1335 - val_accuracy: 0.9571 - lr: 3.9063e-06\n",
            "Epoch 88/100\n",
            "183/183 [==============================] - 1s 8ms/step - loss: 0.1228 - accuracy: 0.9566 - val_loss: 0.1549 - val_accuracy: 0.9448 - lr: 3.9063e-06\n",
            "Epoch 89/100\n",
            "183/183 [==============================] - 1s 8ms/step - loss: 0.1149 - accuracy: 0.9583 - val_loss: 0.1403 - val_accuracy: 0.9387 - lr: 3.9063e-06\n",
            "Epoch 90/100\n",
            "183/183 [==============================] - 2s 8ms/step - loss: 0.1129 - accuracy: 0.9617 - val_loss: 0.1312 - val_accuracy: 0.9571 - lr: 3.9063e-06\n",
            "Epoch 91/100\n",
            "183/183 [==============================] - 1s 8ms/step - loss: 0.1180 - accuracy: 0.9662 - val_loss: 0.1347 - val_accuracy: 0.9509 - lr: 3.9063e-06\n",
            "Epoch 92/100\n",
            "183/183 [==============================] - 1s 8ms/step - loss: 0.1088 - accuracy: 0.9634 - val_loss: 0.1398 - val_accuracy: 0.9540 - lr: 3.9063e-06\n",
            "Epoch 93/100\n",
            "183/183 [==============================] - 1s 8ms/step - loss: 0.1156 - accuracy: 0.9614 - val_loss: 0.1322 - val_accuracy: 0.9509 - lr: 3.9063e-06\n",
            "Epoch 94/100\n",
            "176/183 [===========================>..] - ETA: 0s - loss: 0.1173 - accuracy: 0.9599\n",
            "Epoch 94: ReduceLROnPlateau reducing learning rate to 1.9531250927684596e-06.\n",
            "183/183 [==============================] - 1s 8ms/step - loss: 0.1187 - accuracy: 0.9593 - val_loss: 0.1397 - val_accuracy: 0.9540 - lr: 3.9063e-06\n",
            "Epoch 95/100\n",
            "183/183 [==============================] - 1s 8ms/step - loss: 0.1261 - accuracy: 0.9593 - val_loss: 0.1307 - val_accuracy: 0.9571 - lr: 1.9531e-06\n",
            "Epoch 96/100\n",
            "183/183 [==============================] - 1s 8ms/step - loss: 0.1336 - accuracy: 0.9535 - val_loss: 0.1312 - val_accuracy: 0.9601 - lr: 1.9531e-06\n",
            "Epoch 97/100\n",
            "183/183 [==============================] - 1s 8ms/step - loss: 0.1120 - accuracy: 0.9590 - val_loss: 0.1321 - val_accuracy: 0.9571 - lr: 1.9531e-06\n",
            "Epoch 98/100\n",
            "183/183 [==============================] - 2s 9ms/step - loss: 0.1239 - accuracy: 0.9535 - val_loss: 0.1296 - val_accuracy: 0.9632 - lr: 1.9531e-06\n",
            "Epoch 99/100\n",
            "183/183 [==============================] - 2s 8ms/step - loss: 0.1101 - accuracy: 0.9617 - val_loss: 0.1308 - val_accuracy: 0.9571 - lr: 1.9531e-06\n",
            "Epoch 100/100\n",
            "183/183 [==============================] - 2s 9ms/step - loss: 0.1247 - accuracy: 0.9600 - val_loss: 0.1318 - val_accuracy: 0.9540 - lr: 1.9531e-06\n"
          ]
        }
      ],
      "source": [
        "from tensorflow.keras.callbacks import EarlyStopping, ModelCheckpoint, ReduceLROnPlateau\n",
        "\n",
        "learning_rate_reduction = ReduceLROnPlateau(\n",
        "    monitor='val_accuracy', \n",
        "    patience=7, \n",
        "    verbose=1, \n",
        "    factor=0.5, \n",
        "    min_lr=1e-8)\n",
        "\n",
        "early_stop = EarlyStopping(monitor='val_accuracy',\n",
        "                           patience=15,\n",
        "                           restore_best_weights=True)\n",
        "model_checkpoint = ModelCheckpoint('runtime_saves/checkpoints/2A-StackedLSTM-cp.keras', save_best_only=True)\n",
        "\n",
        "\n",
        "history = model.fit(\n",
        "    X_train, y_train,\n",
        "    epochs=100,\n",
        "    batch_size=16,\n",
        "    validation_data=(X_validation, y_validation),\n",
        "    verbose=1,\n",
        "    callbacks=[model_checkpoint, learning_rate_reduction])"
      ]
    },
    {
      "cell_type": "markdown",
      "metadata": {},
      "source": [
        "## Save Model"
      ]
    },
    {
      "cell_type": "code",
      "execution_count": 18,
      "metadata": {},
      "outputs": [],
      "source": [
        "model.save('runtime_saves/models/2A-StackedLSTM.keras')"
      ]
    },
    {
      "cell_type": "markdown",
      "metadata": {},
      "source": [
        "## Load Model"
      ]
    },
    {
      "cell_type": "code",
      "execution_count": 19,
      "metadata": {},
      "outputs": [],
      "source": [
        "from keras.models import load_model\n",
        "\n",
        "model = load_model('runtime_saves/models/2A-StackedLSTM.keras')"
      ]
    },
    {
      "cell_type": "markdown",
      "metadata": {
        "id": "Ct_S460uGhxP"
      },
      "source": [
        "# **RESULTS AND EVALUATION**"
      ]
    },
    {
      "cell_type": "markdown",
      "metadata": {},
      "source": [
        "## Training History"
      ]
    },
    {
      "cell_type": "code",
      "execution_count": 20,
      "metadata": {},
      "outputs": [
        {
          "data": {
            "image/png": "[encoded data removed]",
            "text/plain": [
              "<Figure size 640x480 with 1 Axes>"
            ]
          },
          "metadata": {},
          "output_type": "display_data"
        },
        {
          "data": {
            "image/png": "[encoded data removed]",
            "text/plain": [
              "<Figure size 640x480 with 1 Axes>"
            ]
          },
          "metadata": {},
          "output_type": "display_data"
        }
      ],
      "source": [
        "import matplotlib.pyplot as plt\n",
        "\n",
        "# Extract the history from the training process\n",
        "acc = history.history['accuracy']\n",
        "val_acc = history.history['val_accuracy']\n",
        "loss = history.history['loss']\n",
        "val_loss = history.history['val_loss']\n",
        "epochs = range(1, len(acc) + 1)\n",
        "\n",
        "# Plot the training and validation accuracy\n",
        "plt.plot(epochs, acc, 'bo', label='Training acc')\n",
        "plt.plot(epochs, val_acc, 'b', label='Validation acc')\n",
        "plt.title('Training and validation accuracy')\n",
        "plt.legend()\n",
        "\n",
        "# Plot the training and validation loss\n",
        "plt.figure()\n",
        "plt.plot(epochs, loss, 'bo', label='Training loss')\n",
        "plt.plot(epochs, val_loss, 'b', label='Validation loss')\n",
        "plt.title('Training and validation loss')\n",
        "plt.legend()\n",
        "plt.show()"
      ]
    },
    {
      "cell_type": "markdown",
      "metadata": {},
      "source": [
        "## Evaluate the model"
      ]
    },
    {
      "cell_type": "code",
      "execution_count": 21,
      "metadata": {},
      "outputs": [
        {
          "name": "stdout",
          "output_type": "stream",
          "text": [
            "Train accuracy: 99.0776%\n",
            "Train loss: 0.0398\n",
            "\n",
            "Test accuracy: 95.8231%\n",
            "Test loss: 0.1329\n",
            "\n",
            "Validation accuracy: 95.3988%\n",
            "Validation loss: 0.1318\n"
          ]
        }
      ],
      "source": [
        "# Train accuracy and loss\n",
        "train_loss, train_accuracy = model.evaluate(X_train, y_train, verbose=0)\n",
        "print(f'Train accuracy: {train_accuracy*100:.4f}%')\n",
        "print(f'Train loss: {train_loss:.4f}')\n",
        "print()\n",
        "\n",
        "# Test accuracy and loss\n",
        "test_loss, test_accuracy = model.evaluate(X_test, y_test, verbose=0)\n",
        "print(f'Test accuracy: {test_accuracy*100:.4f}%')\n",
        "print(f'Test loss: {test_loss:.4f}')\n",
        "print()\n",
        "\n",
        "# Validation accuracy and loss\n",
        "validation_loss, validation_accuracy = model.evaluate(X_validation, y_validation, verbose=0)\n",
        "print(f'Validation accuracy: {validation_accuracy*100:.4f}%')\n",
        "print(f'Validation loss: {validation_loss:.4f}')"
      ]
    },
    {
      "cell_type": "markdown",
      "metadata": {},
      "source": [
        "## Confusion Matrix"
      ]
    },
    {
      "cell_type": "code",
      "execution_count": 22,
      "metadata": {},
      "outputs": [
        {
          "name": "stdout",
          "output_type": "stream",
          "text": [
            "26/26 [==============================] - 1s 3ms/step\n",
            "[[198   3   5]\n",
            " [  5 241   8]\n",
            " [  4   9 341]]\n"
          ]
        },
        {
          "data": {
            "image/png": "[encoded data removed]",
            "text/plain": [
              "<Figure size 1000x600 with 2 Axes>"
            ]
          },
          "metadata": {},
          "output_type": "display_data"
        }
      ],
      "source": [
        "from sklearn import metrics\n",
        "import seaborn as sns\n",
        "import matplotlib.pyplot as plt\n",
        "\n",
        "# Simple confusion matrix\n",
        "pred = model.predict(X_test)\n",
        "pred = np.argmax(pred, axis=1)\n",
        "\n",
        "\n",
        "conf_matrix = metrics.confusion_matrix(y_test, pred)\n",
        "print(conf_matrix)\n",
        "\n",
        "# Graphical confusion matrix\n",
        "conf_matrix = metrics.confusion_matrix(y_test, pred)\n",
        "\n",
        "plt.figure(figsize=(10, 6))\n",
        "sns.heatmap(conf_matrix, annot=True, fmt='d', cmap='Greens', xticklabels=label_names, yticklabels=label_names)\n",
        "plt.xlabel('Predicted')\n",
        "plt.ylabel('Real')\n",
        "plt.title('Confusion Matrix')\n",
        "plt.show()"
      ]
    },
    {
      "cell_type": "markdown",
      "metadata": {},
      "source": [
        "## PCE and MPCE\n",
        "\n",
        "\n",
        "- **Per-Class Error (PCE)** $\\large = \\text{1 - \\ Class Accuracy }$\n",
        "\n",
        "- **Mean Per-Class Error (MPCE)** $\\large = \\frac{1}{k} \\sum \\text{PCE}$"
      ]
    },
    {
      "cell_type": "code",
      "execution_count": 23,
      "metadata": {},
      "outputs": [
        {
          "name": "stdout",
          "output_type": "stream",
          "text": [
            "Mean per-class error (MCPE): 0.04225\n",
            "\n",
            "'aggressive'\n",
            "Per-class Error (PCE): 0.03883\n",
            "Per-class Accuracy (PCA): 0.96117\n",
            "\n",
            "'normal'\n",
            "Per-class Error (PCE): 0.05118\n",
            "Per-class Accuracy (PCA): 0.94882\n",
            "\n",
            "'slow'\n",
            "Per-class Error (PCE): 0.03672\n",
            "Per-class Accuracy (PCA): 0.96328\n",
            "\n"
          ]
        },
        {
          "data": {
            "image/png": "[encoded data removed]",
            "text/plain": [
              "<Figure size 1000x600 with 1 Axes>"
            ]
          },
          "metadata": {},
          "output_type": "display_data"
        }
      ],
      "source": [
        "from sklearn.metrics import confusion_matrix\n",
        "import numpy as np\n",
        "\n",
        "conf_matrix = confusion_matrix(y_test, pred)\n",
        "\n",
        "# Calculate per-class accuracy\n",
        "per_class_accuracy = conf_matrix.diagonal() / conf_matrix.sum(axis=1)\n",
        "\n",
        "# Convert per-class accuracy to per-class error\n",
        "per_class_error = 1 - per_class_accuracy\n",
        "\n",
        "# Mean per-class error\n",
        "mean_per_class_error = np.mean(per_class_error)\n",
        "print(f\"Mean per-class error (MCPE): {mean_per_class_error:.5f}\")\n",
        "print()\n",
        "\n",
        "# Display per-class error\n",
        "for idx, class_name in enumerate(label_names):\n",
        "    print(f\"'{class_name}'\")\n",
        "    print(f\"Per-class Error (PCE): {per_class_error[idx]:.5f}\")\n",
        "    print(f\"Per-class Accuracy (PCA): {per_class_accuracy[idx]:.5f}\")\n",
        "    print()\n",
        "    \n",
        "import matplotlib.pyplot as plt\n",
        "\n",
        "plt.figure(figsize=(10, 6))\n",
        "plt.bar(label_names, per_class_error, color='green')\n",
        "plt.xlabel('Class')\n",
        "plt.ylabel('Error Rate')\n",
        "plt.title('Per-Class Error Rate')\n",
        "plt.show()"
      ]
    },
    {
      "cell_type": "markdown",
      "metadata": {},
      "source": [
        "\n",
        "\n",
        "\n",
        "\n",
        "\n",
        "\n",
        "\n",
        "\n",
        "\n",
        "\n",
        "\n",
        "\n",
        "\n",
        "\n",
        "\n",
        "\n",
        "\n",
        "\n",
        "\n",
        "\n",
        "\n",
        "\n",
        "## Performance Metrics"
      ]
    },
    {
      "cell_type": "markdown",
      "metadata": {},
      "source": [
        "- Accuracy  $\\large = \\frac{Correct~Predictions}{All~Predictions}$\n",
        "- Precision for a given class  $\\large = \\frac{Correct~Predictions~for~the~Class}{All~Predictions~for~the~Class}$   \n",
        "- Recall for a given class  $\\large = \\frac{Correct~Predictions~for~the~Class}{All~Instances~of~the~Class}$  \n",
        "- F1 Score $\\large = \\frac{2 \\times \\text{Precision} \\times \\text{Recall}}{\\text{Precision} + \\text{Recall}}$  \n",
        "- Hamming Loss $\\large = \\frac{1}{N} \\sum_{i=1}^{N} \\frac{\\text{Incorrect Labels}}{\\text{Total Labels}}$  \n",
        "- Jaccard Score $\\large = \\frac{|Y_{pred} \\cap Y_{true}|}{|Y_{pred} \\cup Y_{true}|}$  \n",
        "\n",
        "\n",
        "\n",
        "- Averaging is a way to get a single number for multiclass. Depending on the importance one wants to give to minority classes: \n",
        "    - Macro average: Compute the metric for each class, and returns the average without considering the proportion for each class in the dataset. For instance:\n",
        "\n",
        "        Precision = $\\large = \\frac{P_{class 1} ~+~ P_{class 2} ~+~ ... ~+~ P_{class n}}{N}$   \n",
        "    \n",
        "    - Weighted average: Compute the metric for each class, and returns the average considering the proportion (weighted) for each class in the dataset. For instance:\n",
        "\n",
        "        Precision = $\\large = \\frac{N_1 ~*~ P_{class 1} ~+~ N_2 ~*~ P_{class 2} ~+~ ... ~+~ N_n ~*~ P_{class n}}{N}$"
      ]
    },
    {
      "cell_type": "code",
      "execution_count": 24,
      "metadata": {},
      "outputs": [
        {
          "name": "stdout",
          "output_type": "stream",
          "text": [
            "Accuracy : 95.82%\n",
            "\n",
            "Precision - Macro: 95.75%\n",
            "Recall - Macro: 95.78%\n",
            "F1-score - Macro: 95.76%\n",
            "\n",
            "Precision - Weighted: 95.82%\n",
            "Recall - Weighted: 95.82%\n",
            "F1-score - Weighted: 95.82%\n"
          ]
        }
      ],
      "source": [
        "from sklearn.metrics import accuracy_score, precision_score, recall_score, f1_score\n",
        "\n",
        "# Calculates performance metrics\n",
        "acc = accuracy_score(y_true =  y_test, y_pred = pred)\n",
        "print(f'Accuracy : {np.round(acc*100,2)}%')\n",
        "\n",
        "print()\n",
        "          \n",
        "precision = precision_score(y_true =  y_test, y_pred = pred, average='macro')\n",
        "print(f'Precision - Macro: {np.round(precision*100,2)}%')\n",
        "\n",
        "recall = recall_score(y_true =  y_test, y_pred = pred, average='macro')\n",
        "print(f'Recall - Macro: {np.round(recall*100,2)}%')\n",
        "\n",
        "f1 = f1_score(y_true =  y_test, y_pred = pred, average='macro')\n",
        "print(f'F1-score - Macro: {np.round(f1*100,2)}%')\n",
        "\n",
        "print()\n",
        "\n",
        "precision = precision_score(y_true =  y_test, y_pred = pred, average='weighted')\n",
        "print(f'Precision - Weighted: {np.round(precision*100,2)}%')\n",
        "\n",
        "recall = recall_score(y_true =  y_test, y_pred = pred, average='weighted')\n",
        "print(f'Recall - Weighted: {np.round(recall*100,2)}%')\n",
        "\n",
        "f1 = f1_score(y_true =  y_test, y_pred = pred, average='weighted')\n",
        "print(f'F1-score - Weighted: {np.round(f1*100,2)}%')"
      ]
    },
    {
      "cell_type": "markdown",
      "metadata": {},
      "source": [
        "## Classification report"
      ]
    },
    {
      "cell_type": "code",
      "execution_count": 25,
      "metadata": {},
      "outputs": [
        {
          "name": "stdout",
          "output_type": "stream",
          "text": [
            "              precision    recall  f1-score   support\n",
            "\n",
            "  aggressive       0.96      0.96      0.96       206\n",
            "      normal       0.95      0.95      0.95       254\n",
            "        slow       0.96      0.96      0.96       354\n",
            "\n",
            "    accuracy                           0.96       814\n",
            "   macro avg       0.96      0.96      0.96       814\n",
            "weighted avg       0.96      0.96      0.96       814\n",
            "\n"
          ]
        }
      ],
      "source": [
        "from sklearn.metrics import classification_report\n",
        "\n",
        "# Classification report\n",
        "print(classification_report(y_test, pred, target_names=label_names))"
      ]
    }
  ],
  "metadata": {
    "accelerator": "GPU",
    "colab": {
      "gpuType": "T4",
      "provenance": []
    },
    "kernelspec": {
      "display_name": "Python 3",
      "name": "python3"
    },
    "language_info": {
      "codemirror_mode": {
        "name": "ipython",
        "version": 3
      },
      "file_extension": ".py",
      "mimetype": "text/x-python",
      "name": "python",
      "nbconvert_exporter": "python",
      "pygments_lexer": "ipython3",
      "version": "3.11.4"
    }
  },
  "nbformat": 4,
  "nbformat_minor": 0
}
